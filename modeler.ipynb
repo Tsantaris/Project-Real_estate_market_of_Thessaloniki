{
 "cells": [
  {
   "cell_type": "code",
   "execution_count": 1,
   "metadata": {},
   "outputs": [],
   "source": [
    "import pandas as pd\n",
    "import numpy as np\n",
    "import seaborn as sns\n",
    "import matplotlib.pyplot as plt\n",
    "from sklearn import *"
   ]
  },
  {
   "cell_type": "code",
   "execution_count": 2,
   "metadata": {},
   "outputs": [],
   "source": [
    "df=pd.read_csv(\"Houses_augmented2\")\n",
    "df2=pd.read_csv(\"Houses_ready_for_analysis\")"
   ]
  },
  {
   "cell_type": "code",
   "execution_count": null,
   "metadata": {},
   "outputs": [],
   "source": [
    "df2.drop(columns=[\"Unnamed: 0\"],inplace=True)\n"
   ]
  },
  {
   "cell_type": "code",
   "execution_count": 52,
   "metadata": {},
   "outputs": [],
   "source": [
    "df3=df2.drop(columns=[\"House_type_Loft\"])"
   ]
  },
  {
   "cell_type": "code",
   "execution_count": 50,
   "metadata": {},
   "outputs": [],
   "source": [
    "df3=df2.drop(columns=[\"Location_aprox_Sindos_Diavata\"])"
   ]
  },
  {
   "cell_type": "code",
   "execution_count": null,
   "metadata": {},
   "outputs": [
    {
     "data": {
      "text/html": [
       "<div>\n",
       "<style scoped>\n",
       "    .dataframe tbody tr th:only-of-type {\n",
       "        vertical-align: middle;\n",
       "    }\n",
       "\n",
       "    .dataframe tbody tr th {\n",
       "        vertical-align: top;\n",
       "    }\n",
       "\n",
       "    .dataframe thead th {\n",
       "        text-align: right;\n",
       "    }\n",
       "</style>\n",
       "<table border=\"1\" class=\"dataframe\">\n",
       "  <thead>\n",
       "    <tr style=\"text-align: right;\">\n",
       "      <th></th>\n",
       "      <th>Total_area (square meters)</th>\n",
       "      <th>Price (in €)</th>\n",
       "      <th>Floor</th>\n",
       "      <th>Rooms</th>\n",
       "      <th>Bathrooms</th>\n",
       "      <th>Year_of_construction</th>\n",
       "      <th>House_type_Loft</th>\n",
       "      <th>House_type_Studio / Γκαρσονιέρα</th>\n",
       "      <th>House_type_Βίλα</th>\n",
       "      <th>House_type_Διαμέρισμα</th>\n",
       "      <th>...</th>\n",
       "      <th>Location_aprox_Sindos_Diavata</th>\n",
       "      <th>Location_aprox_Stavroupoli</th>\n",
       "      <th>Location_aprox_Sykies</th>\n",
       "      <th>Location_aprox_Thermi</th>\n",
       "      <th>Location_aprox_Toumpa</th>\n",
       "      <th>Location_aprox_Triandria</th>\n",
       "      <th>Location_aprox_Vardaris_xirokrini</th>\n",
       "      <th>Location_aprox_Voulgari_Ntepo</th>\n",
       "      <th>Location_aprox_Xarilaou</th>\n",
       "      <th>Location_aprox_out_of_thessaloniki</th>\n",
       "    </tr>\n",
       "  </thead>\n",
       "  <tbody>\n",
       "    <tr>\n",
       "      <th>0</th>\n",
       "      <td>170.0</td>\n",
       "      <td>2700000.0</td>\n",
       "      <td>7.0</td>\n",
       "      <td>3.0</td>\n",
       "      <td>2.0</td>\n",
       "      <td>1952.0</td>\n",
       "      <td>0</td>\n",
       "      <td>0</td>\n",
       "      <td>0</td>\n",
       "      <td>0</td>\n",
       "      <td>...</td>\n",
       "      <td>0</td>\n",
       "      <td>0</td>\n",
       "      <td>0</td>\n",
       "      <td>0</td>\n",
       "      <td>0</td>\n",
       "      <td>0</td>\n",
       "      <td>0</td>\n",
       "      <td>0</td>\n",
       "      <td>0</td>\n",
       "      <td>0</td>\n",
       "    </tr>\n",
       "    <tr>\n",
       "      <th>1</th>\n",
       "      <td>70.0</td>\n",
       "      <td>245000.0</td>\n",
       "      <td>7.0</td>\n",
       "      <td>2.0</td>\n",
       "      <td>1.0</td>\n",
       "      <td>1952.0</td>\n",
       "      <td>0</td>\n",
       "      <td>0</td>\n",
       "      <td>0</td>\n",
       "      <td>1</td>\n",
       "      <td>...</td>\n",
       "      <td>0</td>\n",
       "      <td>0</td>\n",
       "      <td>0</td>\n",
       "      <td>0</td>\n",
       "      <td>0</td>\n",
       "      <td>0</td>\n",
       "      <td>1</td>\n",
       "      <td>0</td>\n",
       "      <td>0</td>\n",
       "      <td>0</td>\n",
       "    </tr>\n",
       "    <tr>\n",
       "      <th>2</th>\n",
       "      <td>70.0</td>\n",
       "      <td>245000.0</td>\n",
       "      <td>7.0</td>\n",
       "      <td>2.0</td>\n",
       "      <td>1.0</td>\n",
       "      <td>1952.0</td>\n",
       "      <td>0</td>\n",
       "      <td>0</td>\n",
       "      <td>0</td>\n",
       "      <td>1</td>\n",
       "      <td>...</td>\n",
       "      <td>0</td>\n",
       "      <td>0</td>\n",
       "      <td>0</td>\n",
       "      <td>0</td>\n",
       "      <td>0</td>\n",
       "      <td>0</td>\n",
       "      <td>0</td>\n",
       "      <td>0</td>\n",
       "      <td>0</td>\n",
       "      <td>0</td>\n",
       "    </tr>\n",
       "    <tr>\n",
       "      <th>3</th>\n",
       "      <td>70.0</td>\n",
       "      <td>245000.0</td>\n",
       "      <td>7.0</td>\n",
       "      <td>2.0</td>\n",
       "      <td>1.0</td>\n",
       "      <td>1952.0</td>\n",
       "      <td>0</td>\n",
       "      <td>0</td>\n",
       "      <td>0</td>\n",
       "      <td>1</td>\n",
       "      <td>...</td>\n",
       "      <td>0</td>\n",
       "      <td>0</td>\n",
       "      <td>0</td>\n",
       "      <td>0</td>\n",
       "      <td>0</td>\n",
       "      <td>0</td>\n",
       "      <td>1</td>\n",
       "      <td>0</td>\n",
       "      <td>0</td>\n",
       "      <td>0</td>\n",
       "    </tr>\n",
       "    <tr>\n",
       "      <th>4</th>\n",
       "      <td>71.0</td>\n",
       "      <td>290000.0</td>\n",
       "      <td>1.0</td>\n",
       "      <td>2.0</td>\n",
       "      <td>1.0</td>\n",
       "      <td>1952.0</td>\n",
       "      <td>0</td>\n",
       "      <td>0</td>\n",
       "      <td>0</td>\n",
       "      <td>1</td>\n",
       "      <td>...</td>\n",
       "      <td>0</td>\n",
       "      <td>0</td>\n",
       "      <td>0</td>\n",
       "      <td>0</td>\n",
       "      <td>0</td>\n",
       "      <td>0</td>\n",
       "      <td>0</td>\n",
       "      <td>0</td>\n",
       "      <td>0</td>\n",
       "      <td>0</td>\n",
       "    </tr>\n",
       "    <tr>\n",
       "      <th>...</th>\n",
       "      <td>...</td>\n",
       "      <td>...</td>\n",
       "      <td>...</td>\n",
       "      <td>...</td>\n",
       "      <td>...</td>\n",
       "      <td>...</td>\n",
       "      <td>...</td>\n",
       "      <td>...</td>\n",
       "      <td>...</td>\n",
       "      <td>...</td>\n",
       "      <td>...</td>\n",
       "      <td>...</td>\n",
       "      <td>...</td>\n",
       "      <td>...</td>\n",
       "      <td>...</td>\n",
       "      <td>...</td>\n",
       "      <td>...</td>\n",
       "      <td>...</td>\n",
       "      <td>...</td>\n",
       "      <td>...</td>\n",
       "      <td>...</td>\n",
       "    </tr>\n",
       "    <tr>\n",
       "      <th>63026</th>\n",
       "      <td>138.0</td>\n",
       "      <td>485000.0</td>\n",
       "      <td>8.0</td>\n",
       "      <td>4.0</td>\n",
       "      <td>2.0</td>\n",
       "      <td>2022.0</td>\n",
       "      <td>0</td>\n",
       "      <td>0</td>\n",
       "      <td>0</td>\n",
       "      <td>0</td>\n",
       "      <td>...</td>\n",
       "      <td>0</td>\n",
       "      <td>0</td>\n",
       "      <td>0</td>\n",
       "      <td>0</td>\n",
       "      <td>1</td>\n",
       "      <td>0</td>\n",
       "      <td>0</td>\n",
       "      <td>0</td>\n",
       "      <td>0</td>\n",
       "      <td>0</td>\n",
       "    </tr>\n",
       "    <tr>\n",
       "      <th>63027</th>\n",
       "      <td>156.0</td>\n",
       "      <td>370000.0</td>\n",
       "      <td>6.0</td>\n",
       "      <td>2.0</td>\n",
       "      <td>1.0</td>\n",
       "      <td>2022.0</td>\n",
       "      <td>0</td>\n",
       "      <td>0</td>\n",
       "      <td>0</td>\n",
       "      <td>0</td>\n",
       "      <td>...</td>\n",
       "      <td>0</td>\n",
       "      <td>0</td>\n",
       "      <td>0</td>\n",
       "      <td>0</td>\n",
       "      <td>1</td>\n",
       "      <td>0</td>\n",
       "      <td>0</td>\n",
       "      <td>0</td>\n",
       "      <td>0</td>\n",
       "      <td>0</td>\n",
       "    </tr>\n",
       "    <tr>\n",
       "      <th>63028</th>\n",
       "      <td>87.0</td>\n",
       "      <td>180000.0</td>\n",
       "      <td>1.0</td>\n",
       "      <td>2.0</td>\n",
       "      <td>1.0</td>\n",
       "      <td>2022.0</td>\n",
       "      <td>0</td>\n",
       "      <td>0</td>\n",
       "      <td>0</td>\n",
       "      <td>1</td>\n",
       "      <td>...</td>\n",
       "      <td>0</td>\n",
       "      <td>0</td>\n",
       "      <td>0</td>\n",
       "      <td>0</td>\n",
       "      <td>0</td>\n",
       "      <td>0</td>\n",
       "      <td>0</td>\n",
       "      <td>0</td>\n",
       "      <td>0</td>\n",
       "      <td>0</td>\n",
       "    </tr>\n",
       "    <tr>\n",
       "      <th>63029</th>\n",
       "      <td>153.0</td>\n",
       "      <td>370000.0</td>\n",
       "      <td>6.0</td>\n",
       "      <td>4.0</td>\n",
       "      <td>1.0</td>\n",
       "      <td>2022.0</td>\n",
       "      <td>0</td>\n",
       "      <td>0</td>\n",
       "      <td>0</td>\n",
       "      <td>0</td>\n",
       "      <td>...</td>\n",
       "      <td>0</td>\n",
       "      <td>0</td>\n",
       "      <td>0</td>\n",
       "      <td>0</td>\n",
       "      <td>0</td>\n",
       "      <td>1</td>\n",
       "      <td>0</td>\n",
       "      <td>0</td>\n",
       "      <td>0</td>\n",
       "      <td>0</td>\n",
       "    </tr>\n",
       "    <tr>\n",
       "      <th>63030</th>\n",
       "      <td>120.0</td>\n",
       "      <td>200000.0</td>\n",
       "      <td>5.0</td>\n",
       "      <td>3.0</td>\n",
       "      <td>2.0</td>\n",
       "      <td>2022.0</td>\n",
       "      <td>0</td>\n",
       "      <td>0</td>\n",
       "      <td>0</td>\n",
       "      <td>0</td>\n",
       "      <td>...</td>\n",
       "      <td>0</td>\n",
       "      <td>0</td>\n",
       "      <td>0</td>\n",
       "      <td>0</td>\n",
       "      <td>0</td>\n",
       "      <td>0</td>\n",
       "      <td>0</td>\n",
       "      <td>0</td>\n",
       "      <td>0</td>\n",
       "      <td>0</td>\n",
       "    </tr>\n",
       "  </tbody>\n",
       "</table>\n",
       "<p>63031 rows × 42 columns</p>\n",
       "</div>"
      ],
      "text/plain": [
       "       Total_area (square meters)  Price (in €)  Floor  Rooms  Bathrooms  \\\n",
       "0                           170.0     2700000.0    7.0    3.0        2.0   \n",
       "1                            70.0      245000.0    7.0    2.0        1.0   \n",
       "2                            70.0      245000.0    7.0    2.0        1.0   \n",
       "3                            70.0      245000.0    7.0    2.0        1.0   \n",
       "4                            71.0      290000.0    1.0    2.0        1.0   \n",
       "...                           ...           ...    ...    ...        ...   \n",
       "63026                       138.0      485000.0    8.0    4.0        2.0   \n",
       "63027                       156.0      370000.0    6.0    2.0        1.0   \n",
       "63028                        87.0      180000.0    1.0    2.0        1.0   \n",
       "63029                       153.0      370000.0    6.0    4.0        1.0   \n",
       "63030                       120.0      200000.0    5.0    3.0        2.0   \n",
       "\n",
       "       Year_of_construction  House_type_Loft  House_type_Studio / Γκαρσονιέρα  \\\n",
       "0                    1952.0                0                                0   \n",
       "1                    1952.0                0                                0   \n",
       "2                    1952.0                0                                0   \n",
       "3                    1952.0                0                                0   \n",
       "4                    1952.0                0                                0   \n",
       "...                     ...              ...                              ...   \n",
       "63026                2022.0                0                                0   \n",
       "63027                2022.0                0                                0   \n",
       "63028                2022.0                0                                0   \n",
       "63029                2022.0                0                                0   \n",
       "63030                2022.0                0                                0   \n",
       "\n",
       "       House_type_Βίλα  House_type_Διαμέρισμα  ...  \\\n",
       "0                    0                      0  ...   \n",
       "1                    0                      1  ...   \n",
       "2                    0                      1  ...   \n",
       "3                    0                      1  ...   \n",
       "4                    0                      1  ...   \n",
       "...                ...                    ...  ...   \n",
       "63026                0                      0  ...   \n",
       "63027                0                      0  ...   \n",
       "63028                0                      1  ...   \n",
       "63029                0                      0  ...   \n",
       "63030                0                      0  ...   \n",
       "\n",
       "       Location_aprox_Sindos_Diavata  Location_aprox_Stavroupoli  \\\n",
       "0                                  0                           0   \n",
       "1                                  0                           0   \n",
       "2                                  0                           0   \n",
       "3                                  0                           0   \n",
       "4                                  0                           0   \n",
       "...                              ...                         ...   \n",
       "63026                              0                           0   \n",
       "63027                              0                           0   \n",
       "63028                              0                           0   \n",
       "63029                              0                           0   \n",
       "63030                              0                           0   \n",
       "\n",
       "       Location_aprox_Sykies  Location_aprox_Thermi  Location_aprox_Toumpa  \\\n",
       "0                          0                      0                      0   \n",
       "1                          0                      0                      0   \n",
       "2                          0                      0                      0   \n",
       "3                          0                      0                      0   \n",
       "4                          0                      0                      0   \n",
       "...                      ...                    ...                    ...   \n",
       "63026                      0                      0                      1   \n",
       "63027                      0                      0                      1   \n",
       "63028                      0                      0                      0   \n",
       "63029                      0                      0                      0   \n",
       "63030                      0                      0                      0   \n",
       "\n",
       "       Location_aprox_Triandria  Location_aprox_Vardaris_xirokrini  \\\n",
       "0                             0                                  0   \n",
       "1                             0                                  1   \n",
       "2                             0                                  0   \n",
       "3                             0                                  1   \n",
       "4                             0                                  0   \n",
       "...                         ...                                ...   \n",
       "63026                         0                                  0   \n",
       "63027                         0                                  0   \n",
       "63028                         0                                  0   \n",
       "63029                         1                                  0   \n",
       "63030                         0                                  0   \n",
       "\n",
       "       Location_aprox_Voulgari_Ntepo  Location_aprox_Xarilaou  \\\n",
       "0                                  0                        0   \n",
       "1                                  0                        0   \n",
       "2                                  0                        0   \n",
       "3                                  0                        0   \n",
       "4                                  0                        0   \n",
       "...                              ...                      ...   \n",
       "63026                              0                        0   \n",
       "63027                              0                        0   \n",
       "63028                              0                        0   \n",
       "63029                              0                        0   \n",
       "63030                              0                        0   \n",
       "\n",
       "       Location_aprox_out_of_thessaloniki  \n",
       "0                                       0  \n",
       "1                                       0  \n",
       "2                                       0  \n",
       "3                                       0  \n",
       "4                                       0  \n",
       "...                                   ...  \n",
       "63026                                   0  \n",
       "63027                                   0  \n",
       "63028                                   0  \n",
       "63029                                   0  \n",
       "63030                                   0  \n",
       "\n",
       "[63031 rows x 42 columns]"
      ]
     },
     "execution_count": 4,
     "metadata": {},
     "output_type": "execute_result"
    }
   ],
   "source": [
    "df2"
   ]
  },
  {
   "cell_type": "code",
   "execution_count": 5,
   "metadata": {},
   "outputs": [],
   "source": [
    "df_grouped_loc=df.groupby(\"Location_aprox\")"
   ]
  },
  {
   "cell_type": "code",
   "execution_count": 6,
   "metadata": {},
   "outputs": [
    {
     "data": {
      "text/html": [
       "<div>\n",
       "<style scoped>\n",
       "    .dataframe tbody tr th:only-of-type {\n",
       "        vertical-align: middle;\n",
       "    }\n",
       "\n",
       "    .dataframe tbody tr th {\n",
       "        vertical-align: top;\n",
       "    }\n",
       "\n",
       "    .dataframe thead th {\n",
       "        text-align: right;\n",
       "    }\n",
       "</style>\n",
       "<table border=\"1\" class=\"dataframe\">\n",
       "  <thead>\n",
       "    <tr style=\"text-align: right;\">\n",
       "      <th></th>\n",
       "      <th>Total_area</th>\n",
       "      <th>Price</th>\n",
       "      <th>House_type</th>\n",
       "      <th>Floor</th>\n",
       "      <th>Rooms</th>\n",
       "      <th>Bathrooms</th>\n",
       "      <th>Year_of_construction</th>\n",
       "    </tr>\n",
       "    <tr>\n",
       "      <th>Location_aprox</th>\n",
       "      <th></th>\n",
       "      <th></th>\n",
       "      <th></th>\n",
       "      <th></th>\n",
       "      <th></th>\n",
       "      <th></th>\n",
       "      <th></th>\n",
       "    </tr>\n",
       "  </thead>\n",
       "  <tbody>\n",
       "    <tr>\n",
       "      <th>Agia_triada</th>\n",
       "      <td>3072</td>\n",
       "      <td>3072</td>\n",
       "      <td>3072</td>\n",
       "      <td>3072</td>\n",
       "      <td>3072</td>\n",
       "      <td>3072</td>\n",
       "      <td>3072</td>\n",
       "    </tr>\n",
       "    <tr>\n",
       "      <th>Ampelokipoi</th>\n",
       "      <td>918</td>\n",
       "      <td>918</td>\n",
       "      <td>918</td>\n",
       "      <td>918</td>\n",
       "      <td>918</td>\n",
       "      <td>918</td>\n",
       "      <td>918</td>\n",
       "    </tr>\n",
       "    <tr>\n",
       "      <th>Analipsi</th>\n",
       "      <td>2645</td>\n",
       "      <td>2645</td>\n",
       "      <td>2645</td>\n",
       "      <td>2645</td>\n",
       "      <td>2645</td>\n",
       "      <td>2645</td>\n",
       "      <td>2645</td>\n",
       "    </tr>\n",
       "    <tr>\n",
       "      <th>Ano_poli_Evaggelistria</th>\n",
       "      <td>1859</td>\n",
       "      <td>1859</td>\n",
       "      <td>1859</td>\n",
       "      <td>1859</td>\n",
       "      <td>1859</td>\n",
       "      <td>1859</td>\n",
       "      <td>1859</td>\n",
       "    </tr>\n",
       "    <tr>\n",
       "      <th>Center_east_of_aristotle_square</th>\n",
       "      <td>5818</td>\n",
       "      <td>5818</td>\n",
       "      <td>5818</td>\n",
       "      <td>5818</td>\n",
       "      <td>5818</td>\n",
       "      <td>5818</td>\n",
       "      <td>5818</td>\n",
       "    </tr>\n",
       "    <tr>\n",
       "      <th>Center_west_of_including_aristotle_square</th>\n",
       "      <td>5429</td>\n",
       "      <td>5429</td>\n",
       "      <td>5429</td>\n",
       "      <td>5429</td>\n",
       "      <td>5429</td>\n",
       "      <td>5429</td>\n",
       "      <td>5429</td>\n",
       "    </tr>\n",
       "    <tr>\n",
       "      <th>Efkarpia_Nikopoli</th>\n",
       "      <td>467</td>\n",
       "      <td>467</td>\n",
       "      <td>467</td>\n",
       "      <td>467</td>\n",
       "      <td>467</td>\n",
       "      <td>467</td>\n",
       "      <td>467</td>\n",
       "    </tr>\n",
       "    <tr>\n",
       "      <th>Evosmos_Kordelio</th>\n",
       "      <td>2644</td>\n",
       "      <td>2644</td>\n",
       "      <td>2644</td>\n",
       "      <td>2644</td>\n",
       "      <td>2644</td>\n",
       "      <td>2644</td>\n",
       "      <td>2644</td>\n",
       "    </tr>\n",
       "    <tr>\n",
       "      <th>Kalamaria</th>\n",
       "      <td>4589</td>\n",
       "      <td>4589</td>\n",
       "      <td>4589</td>\n",
       "      <td>4589</td>\n",
       "      <td>4589</td>\n",
       "      <td>4589</td>\n",
       "      <td>4589</td>\n",
       "    </tr>\n",
       "    <tr>\n",
       "      <th>Menemeni_lachanokipoi</th>\n",
       "      <td>687</td>\n",
       "      <td>687</td>\n",
       "      <td>687</td>\n",
       "      <td>687</td>\n",
       "      <td>687</td>\n",
       "      <td>687</td>\n",
       "      <td>687</td>\n",
       "    </tr>\n",
       "    <tr>\n",
       "      <th>Neapoli</th>\n",
       "      <td>574</td>\n",
       "      <td>574</td>\n",
       "      <td>574</td>\n",
       "      <td>574</td>\n",
       "      <td>574</td>\n",
       "      <td>574</td>\n",
       "      <td>574</td>\n",
       "    </tr>\n",
       "    <tr>\n",
       "      <th>Oreokastro</th>\n",
       "      <td>1457</td>\n",
       "      <td>1457</td>\n",
       "      <td>1457</td>\n",
       "      <td>1457</td>\n",
       "      <td>1457</td>\n",
       "      <td>1457</td>\n",
       "      <td>1457</td>\n",
       "    </tr>\n",
       "    <tr>\n",
       "      <th>Panorama</th>\n",
       "      <td>3665</td>\n",
       "      <td>3665</td>\n",
       "      <td>3665</td>\n",
       "      <td>3665</td>\n",
       "      <td>3665</td>\n",
       "      <td>3665</td>\n",
       "      <td>3665</td>\n",
       "    </tr>\n",
       "    <tr>\n",
       "      <th>Peraia</th>\n",
       "      <td>1789</td>\n",
       "      <td>1789</td>\n",
       "      <td>1789</td>\n",
       "      <td>1789</td>\n",
       "      <td>1789</td>\n",
       "      <td>1789</td>\n",
       "      <td>1789</td>\n",
       "    </tr>\n",
       "    <tr>\n",
       "      <th>Peuka</th>\n",
       "      <td>361</td>\n",
       "      <td>361</td>\n",
       "      <td>361</td>\n",
       "      <td>361</td>\n",
       "      <td>361</td>\n",
       "      <td>361</td>\n",
       "      <td>361</td>\n",
       "    </tr>\n",
       "    <tr>\n",
       "      <th>Polichni</th>\n",
       "      <td>778</td>\n",
       "      <td>778</td>\n",
       "      <td>778</td>\n",
       "      <td>778</td>\n",
       "      <td>778</td>\n",
       "      <td>778</td>\n",
       "      <td>778</td>\n",
       "    </tr>\n",
       "    <tr>\n",
       "      <th>Pylaia</th>\n",
       "      <td>1904</td>\n",
       "      <td>1904</td>\n",
       "      <td>1904</td>\n",
       "      <td>1904</td>\n",
       "      <td>1904</td>\n",
       "      <td>1904</td>\n",
       "      <td>1904</td>\n",
       "    </tr>\n",
       "    <tr>\n",
       "      <th>Sindos_Diavata</th>\n",
       "      <td>66</td>\n",
       "      <td>66</td>\n",
       "      <td>66</td>\n",
       "      <td>66</td>\n",
       "      <td>66</td>\n",
       "      <td>66</td>\n",
       "      <td>66</td>\n",
       "    </tr>\n",
       "    <tr>\n",
       "      <th>Stavroupoli</th>\n",
       "      <td>1099</td>\n",
       "      <td>1099</td>\n",
       "      <td>1099</td>\n",
       "      <td>1099</td>\n",
       "      <td>1099</td>\n",
       "      <td>1099</td>\n",
       "      <td>1099</td>\n",
       "    </tr>\n",
       "    <tr>\n",
       "      <th>Sykies</th>\n",
       "      <td>1291</td>\n",
       "      <td>1291</td>\n",
       "      <td>1291</td>\n",
       "      <td>1291</td>\n",
       "      <td>1291</td>\n",
       "      <td>1291</td>\n",
       "      <td>1291</td>\n",
       "    </tr>\n",
       "    <tr>\n",
       "      <th>Thermi</th>\n",
       "      <td>2255</td>\n",
       "      <td>2255</td>\n",
       "      <td>2255</td>\n",
       "      <td>2255</td>\n",
       "      <td>2255</td>\n",
       "      <td>2255</td>\n",
       "      <td>2255</td>\n",
       "    </tr>\n",
       "    <tr>\n",
       "      <th>Toumpa</th>\n",
       "      <td>4685</td>\n",
       "      <td>4685</td>\n",
       "      <td>4685</td>\n",
       "      <td>4685</td>\n",
       "      <td>4685</td>\n",
       "      <td>4685</td>\n",
       "      <td>4685</td>\n",
       "    </tr>\n",
       "    <tr>\n",
       "      <th>Triandria</th>\n",
       "      <td>729</td>\n",
       "      <td>729</td>\n",
       "      <td>729</td>\n",
       "      <td>729</td>\n",
       "      <td>729</td>\n",
       "      <td>729</td>\n",
       "      <td>729</td>\n",
       "    </tr>\n",
       "    <tr>\n",
       "      <th>Vardaris_xirokrini</th>\n",
       "      <td>1758</td>\n",
       "      <td>1758</td>\n",
       "      <td>1758</td>\n",
       "      <td>1758</td>\n",
       "      <td>1758</td>\n",
       "      <td>1758</td>\n",
       "      <td>1758</td>\n",
       "    </tr>\n",
       "    <tr>\n",
       "      <th>Voulgari_Ntepo</th>\n",
       "      <td>5268</td>\n",
       "      <td>5268</td>\n",
       "      <td>5268</td>\n",
       "      <td>5268</td>\n",
       "      <td>5268</td>\n",
       "      <td>5268</td>\n",
       "      <td>5268</td>\n",
       "    </tr>\n",
       "    <tr>\n",
       "      <th>Xarilaou</th>\n",
       "      <td>2095</td>\n",
       "      <td>2095</td>\n",
       "      <td>2095</td>\n",
       "      <td>2095</td>\n",
       "      <td>2095</td>\n",
       "      <td>2095</td>\n",
       "      <td>2095</td>\n",
       "    </tr>\n",
       "    <tr>\n",
       "      <th>out_of_thessaloniki</th>\n",
       "      <td>5129</td>\n",
       "      <td>5129</td>\n",
       "      <td>5129</td>\n",
       "      <td>5129</td>\n",
       "      <td>5129</td>\n",
       "      <td>5129</td>\n",
       "      <td>5129</td>\n",
       "    </tr>\n",
       "  </tbody>\n",
       "</table>\n",
       "</div>"
      ],
      "text/plain": [
       "                                           Total_area  Price  House_type  \\\n",
       "Location_aprox                                                             \n",
       "Agia_triada                                      3072   3072        3072   \n",
       "Ampelokipoi                                       918    918         918   \n",
       "Analipsi                                         2645   2645        2645   \n",
       "Ano_poli_Evaggelistria                           1859   1859        1859   \n",
       "Center_east_of_aristotle_square                  5818   5818        5818   \n",
       "Center_west_of_including_aristotle_square        5429   5429        5429   \n",
       "Efkarpia_Nikopoli                                 467    467         467   \n",
       "Evosmos_Kordelio                                 2644   2644        2644   \n",
       "Kalamaria                                        4589   4589        4589   \n",
       "Menemeni_lachanokipoi                             687    687         687   \n",
       "Neapoli                                           574    574         574   \n",
       "Oreokastro                                       1457   1457        1457   \n",
       "Panorama                                         3665   3665        3665   \n",
       "Peraia                                           1789   1789        1789   \n",
       "Peuka                                             361    361         361   \n",
       "Polichni                                          778    778         778   \n",
       "Pylaia                                           1904   1904        1904   \n",
       "Sindos_Diavata                                     66     66          66   \n",
       "Stavroupoli                                      1099   1099        1099   \n",
       "Sykies                                           1291   1291        1291   \n",
       "Thermi                                           2255   2255        2255   \n",
       "Toumpa                                           4685   4685        4685   \n",
       "Triandria                                         729    729         729   \n",
       "Vardaris_xirokrini                               1758   1758        1758   \n",
       "Voulgari_Ntepo                                   5268   5268        5268   \n",
       "Xarilaou                                         2095   2095        2095   \n",
       "out_of_thessaloniki                              5129   5129        5129   \n",
       "\n",
       "                                           Floor  Rooms  Bathrooms  \\\n",
       "Location_aprox                                                       \n",
       "Agia_triada                                 3072   3072       3072   \n",
       "Ampelokipoi                                  918    918        918   \n",
       "Analipsi                                    2645   2645       2645   \n",
       "Ano_poli_Evaggelistria                      1859   1859       1859   \n",
       "Center_east_of_aristotle_square             5818   5818       5818   \n",
       "Center_west_of_including_aristotle_square   5429   5429       5429   \n",
       "Efkarpia_Nikopoli                            467    467        467   \n",
       "Evosmos_Kordelio                            2644   2644       2644   \n",
       "Kalamaria                                   4589   4589       4589   \n",
       "Menemeni_lachanokipoi                        687    687        687   \n",
       "Neapoli                                      574    574        574   \n",
       "Oreokastro                                  1457   1457       1457   \n",
       "Panorama                                    3665   3665       3665   \n",
       "Peraia                                      1789   1789       1789   \n",
       "Peuka                                        361    361        361   \n",
       "Polichni                                     778    778        778   \n",
       "Pylaia                                      1904   1904       1904   \n",
       "Sindos_Diavata                                66     66         66   \n",
       "Stavroupoli                                 1099   1099       1099   \n",
       "Sykies                                      1291   1291       1291   \n",
       "Thermi                                      2255   2255       2255   \n",
       "Toumpa                                      4685   4685       4685   \n",
       "Triandria                                    729    729        729   \n",
       "Vardaris_xirokrini                          1758   1758       1758   \n",
       "Voulgari_Ntepo                              5268   5268       5268   \n",
       "Xarilaou                                    2095   2095       2095   \n",
       "out_of_thessaloniki                         5129   5129       5129   \n",
       "\n",
       "                                           Year_of_construction  \n",
       "Location_aprox                                                   \n",
       "Agia_triada                                                3072  \n",
       "Ampelokipoi                                                 918  \n",
       "Analipsi                                                   2645  \n",
       "Ano_poli_Evaggelistria                                     1859  \n",
       "Center_east_of_aristotle_square                            5818  \n",
       "Center_west_of_including_aristotle_square                  5429  \n",
       "Efkarpia_Nikopoli                                           467  \n",
       "Evosmos_Kordelio                                           2644  \n",
       "Kalamaria                                                  4589  \n",
       "Menemeni_lachanokipoi                                       687  \n",
       "Neapoli                                                     574  \n",
       "Oreokastro                                                 1457  \n",
       "Panorama                                                   3665  \n",
       "Peraia                                                     1789  \n",
       "Peuka                                                       361  \n",
       "Polichni                                                    778  \n",
       "Pylaia                                                     1904  \n",
       "Sindos_Diavata                                               66  \n",
       "Stavroupoli                                                1099  \n",
       "Sykies                                                     1291  \n",
       "Thermi                                                     2255  \n",
       "Toumpa                                                     4685  \n",
       "Triandria                                                   729  \n",
       "Vardaris_xirokrini                                         1758  \n",
       "Voulgari_Ntepo                                             5268  \n",
       "Xarilaou                                                   2095  \n",
       "out_of_thessaloniki                                        5129  "
      ]
     },
     "execution_count": 6,
     "metadata": {},
     "output_type": "execute_result"
    }
   ],
   "source": [
    "df_grouped_loc.count()"
   ]
  },
  {
   "cell_type": "code",
   "execution_count": 7,
   "metadata": {},
   "outputs": [
    {
     "data": {
      "text/plain": [
       "<Axes: xlabel='Price', ylabel='Location_aprox'>"
      ]
     },
     "execution_count": 7,
     "metadata": {},
     "output_type": "execute_result"
    },
    {
     "data": {
      "image/png": "[encoded data removed]",
      "text/plain": [
       "<Figure size 640x480 with 1 Axes>"
      ]
     },
     "metadata": {},
     "output_type": "display_data"
    }
   ],
   "source": [
    "mean_loc=df.groupby(\"Location_aprox\")[\"Price\"].mean().sort_values(ascending=False)\n",
    "mean_loc=mean_loc.reset_index()\n",
    "sns.barplot(y=\"Location_aprox\",x=\"Price\",data=mean_loc)"
   ]
  },
  {
   "cell_type": "code",
   "execution_count": 8,
   "metadata": {},
   "outputs": [
    {
     "data": {
      "text/plain": [
       "<Axes: xlabel='Total_area', ylabel='Location_aprox'>"
      ]
     },
     "execution_count": 8,
     "metadata": {},
     "output_type": "execute_result"
    },
    {
     "data": {
      "image/png": "[encoded data removed]",
      "text/plain": [
       "<Figure size 640x480 with 1 Axes>"
      ]
     },
     "metadata": {},
     "output_type": "display_data"
    }
   ],
   "source": [
    "mean_area=df_grouped_loc[\"Total_area\"].mean().sort_values(ascending=False)\n",
    "mean_area=mean_area.reset_index()\n",
    "sns.barplot(y=\"Location_aprox\",x=\"Total_area\",data=mean_area)"
   ]
  },
  {
   "cell_type": "code",
   "execution_count": 9,
   "metadata": {},
   "outputs": [
    {
     "data": {
      "text/html": [
       "<div>\n",
       "<style scoped>\n",
       "    .dataframe tbody tr th:only-of-type {\n",
       "        vertical-align: middle;\n",
       "    }\n",
       "\n",
       "    .dataframe tbody tr th {\n",
       "        vertical-align: top;\n",
       "    }\n",
       "\n",
       "    .dataframe thead th {\n",
       "        text-align: right;\n",
       "    }\n",
       "</style>\n",
       "<table border=\"1\" class=\"dataframe\">\n",
       "  <thead>\n",
       "    <tr style=\"text-align: right;\">\n",
       "      <th></th>\n",
       "      <th>Total_area</th>\n",
       "      <th>Price</th>\n",
       "      <th>Floor</th>\n",
       "      <th>Rooms</th>\n",
       "      <th>Bathrooms</th>\n",
       "    </tr>\n",
       "  </thead>\n",
       "  <tbody>\n",
       "    <tr>\n",
       "      <th>Total_area</th>\n",
       "      <td>1.000000</td>\n",
       "      <td>0.756536</td>\n",
       "      <td>-0.300886</td>\n",
       "      <td>0.781411</td>\n",
       "      <td>0.699426</td>\n",
       "    </tr>\n",
       "    <tr>\n",
       "      <th>Price</th>\n",
       "      <td>0.756536</td>\n",
       "      <td>1.000000</td>\n",
       "      <td>-0.078852</td>\n",
       "      <td>0.622391</td>\n",
       "      <td>0.587061</td>\n",
       "    </tr>\n",
       "    <tr>\n",
       "      <th>Floor</th>\n",
       "      <td>-0.300886</td>\n",
       "      <td>-0.078852</td>\n",
       "      <td>1.000000</td>\n",
       "      <td>-0.249955</td>\n",
       "      <td>-0.265017</td>\n",
       "    </tr>\n",
       "    <tr>\n",
       "      <th>Rooms</th>\n",
       "      <td>0.781411</td>\n",
       "      <td>0.622391</td>\n",
       "      <td>-0.249955</td>\n",
       "      <td>1.000000</td>\n",
       "      <td>0.718399</td>\n",
       "    </tr>\n",
       "    <tr>\n",
       "      <th>Bathrooms</th>\n",
       "      <td>0.699426</td>\n",
       "      <td>0.587061</td>\n",
       "      <td>-0.265017</td>\n",
       "      <td>0.718399</td>\n",
       "      <td>1.000000</td>\n",
       "    </tr>\n",
       "  </tbody>\n",
       "</table>\n",
       "</div>"
      ],
      "text/plain": [
       "            Total_area     Price     Floor     Rooms  Bathrooms\n",
       "Total_area    1.000000  0.756536 -0.300886  0.781411   0.699426\n",
       "Price         0.756536  1.000000 -0.078852  0.622391   0.587061\n",
       "Floor        -0.300886 -0.078852  1.000000 -0.249955  -0.265017\n",
       "Rooms         0.781411  0.622391 -0.249955  1.000000   0.718399\n",
       "Bathrooms     0.699426  0.587061 -0.265017  0.718399   1.000000"
      ]
     },
     "execution_count": 9,
     "metadata": {},
     "output_type": "execute_result"
    }
   ],
   "source": [
    "cor=df[[\"Total_area\",\"Price\",\"Floor\",\"Rooms\",\"Bathrooms\"]].corr()\n",
    "cor"
   ]
  },
  {
   "cell_type": "code",
   "execution_count": 10,
   "metadata": {},
   "outputs": [
    {
     "data": {
      "image/png": "[encoded data removed]",
      "text/plain": [
       "<Figure size 640x480 with 2 Axes>"
      ]
     },
     "metadata": {},
     "output_type": "display_data"
    }
   ],
   "source": [
    "hm=sns.heatmap(cor,cbar=True,\n",
    "                annot=True,\n",
    "                square=True,\n",
    "                fmt='.2f')"
   ]
  },
  {
   "cell_type": "code",
   "execution_count": 11,
   "metadata": {},
   "outputs": [
    {
     "data": {
      "text/plain": [
       "Location_aprox\n",
       "Thermi                                       2004.693126\n",
       "Peuka                                        2003.254848\n",
       "Pylaia                                       2003.153361\n",
       "Oreokastro                                   1999.702128\n",
       "Efkarpia_Nikopoli                            1998.743041\n",
       "out_of_thessaloniki                          1998.034510\n",
       "Panorama                                     1997.727422\n",
       "Evosmos_Kordelio                             1997.671710\n",
       "Polichni                                     1995.458869\n",
       "Sindos_Diavata                               1995.151515\n",
       "Peraia                                       1994.760201\n",
       "Stavroupoli                                  1991.413103\n",
       "Kalamaria                                    1990.150795\n",
       "Sykies                                       1989.445391\n",
       "Menemeni_lachanokipoi                        1987.061135\n",
       "Ano_poli_Evaggelistria                       1986.594944\n",
       "Triandria                                    1985.580247\n",
       "Xarilaou                                     1984.195704\n",
       "Toumpa                                       1984.140662\n",
       "Ampelokipoi                                  1981.367102\n",
       "Neapoli                                      1977.757840\n",
       "Vardaris_xirokrini                           1977.265643\n",
       "Voulgari_Ntepo                               1975.116553\n",
       "Analipsi                                     1973.112287\n",
       "Agia_triada                                  1971.388021\n",
       "Center_west_of_including_aristotle_square    1964.614294\n",
       "Center_east_of_aristotle_square              1961.295978\n",
       "Name: Year_of_construction, dtype: float64"
      ]
     },
     "execution_count": 11,
     "metadata": {},
     "output_type": "execute_result"
    }
   ],
   "source": [
    "df_grouped_loc[\"Year_of_construction\"].mean().sort_values(ascending=False)"
   ]
  },
  {
   "cell_type": "code",
   "execution_count": 12,
   "metadata": {},
   "outputs": [],
   "source": [
    "df[\"price_per_square_meter\"]=df[\"Price\"]/df[\"Total_area\"]"
   ]
  },
  {
   "cell_type": "code",
   "execution_count": 13,
   "metadata": {},
   "outputs": [
    {
     "data": {
      "text/html": [
       "<div>\n",
       "<style scoped>\n",
       "    .dataframe tbody tr th:only-of-type {\n",
       "        vertical-align: middle;\n",
       "    }\n",
       "\n",
       "    .dataframe tbody tr th {\n",
       "        vertical-align: top;\n",
       "    }\n",
       "\n",
       "    .dataframe thead th {\n",
       "        text-align: right;\n",
       "    }\n",
       "</style>\n",
       "<table border=\"1\" class=\"dataframe\">\n",
       "  <thead>\n",
       "    <tr style=\"text-align: right;\">\n",
       "      <th></th>\n",
       "      <th>Total_area</th>\n",
       "      <th>Price</th>\n",
       "      <th>House_type</th>\n",
       "      <th>Floor</th>\n",
       "      <th>Rooms</th>\n",
       "      <th>Bathrooms</th>\n",
       "      <th>Year_of_construction</th>\n",
       "      <th>Location_aprox</th>\n",
       "      <th>price_per_square_meter</th>\n",
       "    </tr>\n",
       "  </thead>\n",
       "  <tbody>\n",
       "    <tr>\n",
       "      <th>0</th>\n",
       "      <td>170.0</td>\n",
       "      <td>2700000.0</td>\n",
       "      <td>Μεζονέτα</td>\n",
       "      <td>7.0</td>\n",
       "      <td>3.0</td>\n",
       "      <td>2.0</td>\n",
       "      <td>1952.0</td>\n",
       "      <td>Center_east_of_aristotle_square</td>\n",
       "      <td>15882.352941</td>\n",
       "    </tr>\n",
       "    <tr>\n",
       "      <th>1</th>\n",
       "      <td>70.0</td>\n",
       "      <td>245000.0</td>\n",
       "      <td>Διαμέρισμα</td>\n",
       "      <td>7.0</td>\n",
       "      <td>2.0</td>\n",
       "      <td>1.0</td>\n",
       "      <td>1952.0</td>\n",
       "      <td>Vardaris_xirokrini</td>\n",
       "      <td>3500.000000</td>\n",
       "    </tr>\n",
       "    <tr>\n",
       "      <th>2</th>\n",
       "      <td>70.0</td>\n",
       "      <td>245000.0</td>\n",
       "      <td>Διαμέρισμα</td>\n",
       "      <td>7.0</td>\n",
       "      <td>2.0</td>\n",
       "      <td>1.0</td>\n",
       "      <td>1952.0</td>\n",
       "      <td>Center_west_of_including_aristotle_square</td>\n",
       "      <td>3500.000000</td>\n",
       "    </tr>\n",
       "    <tr>\n",
       "      <th>3</th>\n",
       "      <td>70.0</td>\n",
       "      <td>245000.0</td>\n",
       "      <td>Διαμέρισμα</td>\n",
       "      <td>7.0</td>\n",
       "      <td>2.0</td>\n",
       "      <td>1.0</td>\n",
       "      <td>1952.0</td>\n",
       "      <td>Vardaris_xirokrini</td>\n",
       "      <td>3500.000000</td>\n",
       "    </tr>\n",
       "    <tr>\n",
       "      <th>4</th>\n",
       "      <td>71.0</td>\n",
       "      <td>290000.0</td>\n",
       "      <td>Διαμέρισμα</td>\n",
       "      <td>1.0</td>\n",
       "      <td>2.0</td>\n",
       "      <td>1.0</td>\n",
       "      <td>1952.0</td>\n",
       "      <td>Center_east_of_aristotle_square</td>\n",
       "      <td>4084.507042</td>\n",
       "    </tr>\n",
       "    <tr>\n",
       "      <th>...</th>\n",
       "      <td>...</td>\n",
       "      <td>...</td>\n",
       "      <td>...</td>\n",
       "      <td>...</td>\n",
       "      <td>...</td>\n",
       "      <td>...</td>\n",
       "      <td>...</td>\n",
       "      <td>...</td>\n",
       "      <td>...</td>\n",
       "    </tr>\n",
       "    <tr>\n",
       "      <th>63026</th>\n",
       "      <td>138.0</td>\n",
       "      <td>485000.0</td>\n",
       "      <td>Μεζονέτα</td>\n",
       "      <td>8.0</td>\n",
       "      <td>4.0</td>\n",
       "      <td>2.0</td>\n",
       "      <td>2022.0</td>\n",
       "      <td>Toumpa</td>\n",
       "      <td>3514.492754</td>\n",
       "    </tr>\n",
       "    <tr>\n",
       "      <th>63027</th>\n",
       "      <td>156.0</td>\n",
       "      <td>370000.0</td>\n",
       "      <td>Μεζονέτα</td>\n",
       "      <td>6.0</td>\n",
       "      <td>2.0</td>\n",
       "      <td>1.0</td>\n",
       "      <td>2022.0</td>\n",
       "      <td>Toumpa</td>\n",
       "      <td>2371.794872</td>\n",
       "    </tr>\n",
       "    <tr>\n",
       "      <th>63028</th>\n",
       "      <td>87.0</td>\n",
       "      <td>180000.0</td>\n",
       "      <td>Διαμέρισμα</td>\n",
       "      <td>1.0</td>\n",
       "      <td>2.0</td>\n",
       "      <td>1.0</td>\n",
       "      <td>2022.0</td>\n",
       "      <td>Evosmos_Kordelio</td>\n",
       "      <td>2068.965517</td>\n",
       "    </tr>\n",
       "    <tr>\n",
       "      <th>63029</th>\n",
       "      <td>153.0</td>\n",
       "      <td>370000.0</td>\n",
       "      <td>Μεζονέτα</td>\n",
       "      <td>6.0</td>\n",
       "      <td>4.0</td>\n",
       "      <td>1.0</td>\n",
       "      <td>2022.0</td>\n",
       "      <td>Triandria</td>\n",
       "      <td>2418.300654</td>\n",
       "    </tr>\n",
       "    <tr>\n",
       "      <th>63030</th>\n",
       "      <td>120.0</td>\n",
       "      <td>200000.0</td>\n",
       "      <td>Μεζονέτα</td>\n",
       "      <td>5.0</td>\n",
       "      <td>3.0</td>\n",
       "      <td>2.0</td>\n",
       "      <td>2022.0</td>\n",
       "      <td>Neapoli</td>\n",
       "      <td>1666.666667</td>\n",
       "    </tr>\n",
       "  </tbody>\n",
       "</table>\n",
       "<p>63031 rows × 9 columns</p>\n",
       "</div>"
      ],
      "text/plain": [
       "       Total_area      Price  House_type  Floor  Rooms  Bathrooms  \\\n",
       "0           170.0  2700000.0    Μεζονέτα    7.0    3.0        2.0   \n",
       "1            70.0   245000.0  Διαμέρισμα    7.0    2.0        1.0   \n",
       "2            70.0   245000.0  Διαμέρισμα    7.0    2.0        1.0   \n",
       "3            70.0   245000.0  Διαμέρισμα    7.0    2.0        1.0   \n",
       "4            71.0   290000.0  Διαμέρισμα    1.0    2.0        1.0   \n",
       "...           ...        ...         ...    ...    ...        ...   \n",
       "63026       138.0   485000.0    Μεζονέτα    8.0    4.0        2.0   \n",
       "63027       156.0   370000.0    Μεζονέτα    6.0    2.0        1.0   \n",
       "63028        87.0   180000.0  Διαμέρισμα    1.0    2.0        1.0   \n",
       "63029       153.0   370000.0    Μεζονέτα    6.0    4.0        1.0   \n",
       "63030       120.0   200000.0    Μεζονέτα    5.0    3.0        2.0   \n",
       "\n",
       "       Year_of_construction                             Location_aprox  \\\n",
       "0                    1952.0            Center_east_of_aristotle_square   \n",
       "1                    1952.0                         Vardaris_xirokrini   \n",
       "2                    1952.0  Center_west_of_including_aristotle_square   \n",
       "3                    1952.0                         Vardaris_xirokrini   \n",
       "4                    1952.0            Center_east_of_aristotle_square   \n",
       "...                     ...                                        ...   \n",
       "63026                2022.0                                     Toumpa   \n",
       "63027                2022.0                                     Toumpa   \n",
       "63028                2022.0                           Evosmos_Kordelio   \n",
       "63029                2022.0                                  Triandria   \n",
       "63030                2022.0                                    Neapoli   \n",
       "\n",
       "       price_per_square_meter  \n",
       "0                15882.352941  \n",
       "1                 3500.000000  \n",
       "2                 3500.000000  \n",
       "3                 3500.000000  \n",
       "4                 4084.507042  \n",
       "...                       ...  \n",
       "63026             3514.492754  \n",
       "63027             2371.794872  \n",
       "63028             2068.965517  \n",
       "63029             2418.300654  \n",
       "63030             1666.666667  \n",
       "\n",
       "[63031 rows x 9 columns]"
      ]
     },
     "execution_count": 13,
     "metadata": {},
     "output_type": "execute_result"
    }
   ],
   "source": [
    "df"
   ]
  },
  {
   "cell_type": "code",
   "execution_count": 14,
   "metadata": {},
   "outputs": [
    {
     "data": {
      "text/plain": [
       "Location_aprox\n",
       "Peraia                                       8710.070658\n",
       "Thermi                                       5603.969815\n",
       "Center_east_of_aristotle_square              3747.371232\n",
       "Pylaia                                       3703.199739\n",
       "Center_west_of_including_aristotle_square    3146.812020\n",
       "Vardaris_xirokrini                           3085.884097\n",
       "Triandria                                    2669.563227\n",
       "Voulgari_Ntepo                               2667.086578\n",
       "out_of_thessaloniki                          2639.327120\n",
       "Analipsi                                     2621.103570\n",
       "Panorama                                     2577.151172\n",
       "Agia_triada                                  2397.797565\n",
       "Kalamaria                                    2328.541260\n",
       "Toumpa                                       2210.518881\n",
       "Xarilaou                                     2170.014177\n",
       "Oreokastro                                   1988.204800\n",
       "Ano_poli_Evaggelistria                       1987.528410\n",
       "Polichni                                     1619.830742\n",
       "Peuka                                        1592.296785\n",
       "Menemeni_lachanokipoi                        1515.637617\n",
       "Sykies                                       1504.374675\n",
       "Evosmos_Kordelio                             1464.703571\n",
       "Efkarpia_Nikopoli                            1449.261401\n",
       "Stavroupoli                                  1384.906330\n",
       "Ampelokipoi                                  1296.880150\n",
       "Neapoli                                      1218.279765\n",
       "Sindos_Diavata                                994.671984\n",
       "Name: price_per_square_meter, dtype: float64"
      ]
     },
     "execution_count": 14,
     "metadata": {},
     "output_type": "execute_result"
    }
   ],
   "source": [
    "df.groupby(\"Location_aprox\")[\"price_per_square_meter\"].mean().sort_values(ascending=False)"
   ]
  },
  {
   "cell_type": "code",
   "execution_count": 88,
   "metadata": {},
   "outputs": [
    {
     "data": {
      "text/plain": [
       "Index(['Total_area (square meters)', 'Price (in €)', 'Floor', 'Rooms',\n",
       "       'Bathrooms', 'Year_of_construction', 'House_type_Loft',\n",
       "       'House_type_Studio / Γκαρσονιέρα', 'House_type_Βίλα',\n",
       "       'House_type_Διαμέρισμα', 'House_type_Κτίριο',\n",
       "       'House_type_Λοιπές κατηγορίες', 'House_type_Μεζονέτα',\n",
       "       'House_type_Μονοκατοικία', 'House_type_Συγκρότημα διαμερισμάτων',\n",
       "       'Location_aprox_Agia_triada', 'Location_aprox_Ampelokipoi',\n",
       "       'Location_aprox_Analipsi', 'Location_aprox_Ano_poli_Evaggelistria',\n",
       "       'Location_aprox_Center_east_of_aristotle_square',\n",
       "       'Location_aprox_Center_west_of_including_aristotle_square',\n",
       "       'Location_aprox_Efkarpia_Nikopoli', 'Location_aprox_Evosmos_Kordelio',\n",
       "       'Location_aprox_Kalamaria', 'Location_aprox_Menemeni_lachanokipoi',\n",
       "       'Location_aprox_Neapoli', 'Location_aprox_Oreokastro',\n",
       "       'Location_aprox_Panorama', 'Location_aprox_Peraia',\n",
       "       'Location_aprox_Peuka', 'Location_aprox_Polichni',\n",
       "       'Location_aprox_Pylaia', 'Location_aprox_Sindos_Diavata',\n",
       "       'Location_aprox_Stavroupoli', 'Location_aprox_Sykies',\n",
       "       'Location_aprox_Thermi', 'Location_aprox_Toumpa',\n",
       "       'Location_aprox_Triandria', 'Location_aprox_Vardaris_xirokrini',\n",
       "       'Location_aprox_Voulgari_Ntepo', 'Location_aprox_Xarilaou',\n",
       "       'Location_aprox_out_of_thessaloniki'],\n",
       "      dtype='object')"
      ]
     },
     "execution_count": 88,
     "metadata": {},
     "output_type": "execute_result"
    }
   ],
   "source": [
    "df2.columns\n"
   ]
  },
  {
   "cell_type": "code",
   "execution_count": 15,
   "metadata": {},
   "outputs": [
    {
     "data": {
      "text/plain": [
       "array([2700000.,  245000.,  245000., ...,  180000.,  370000.,  200000.])"
      ]
     },
     "execution_count": 15,
     "metadata": {},
     "output_type": "execute_result"
    }
   ],
   "source": [
    "X=df2.drop(columns=[\"Price (in €)\"])\n",
    "Y=df2[\"Price (in €)\"].to_numpy()\n",
    "Y\n"
   ]
  },
  {
   "cell_type": "code",
   "execution_count": 16,
   "metadata": {},
   "outputs": [
    {
     "data": {
      "text/plain": [
       "Index(['Total_area (square meters)', 'Floor', 'Rooms', 'Bathrooms',\n",
       "       'Year_of_construction', 'House_type_Loft',\n",
       "       'House_type_Studio / Γκαρσονιέρα', 'House_type_Βίλα',\n",
       "       'House_type_Διαμέρισμα', 'House_type_Κτίριο',\n",
       "       'House_type_Λοιπές κατηγορίες', 'House_type_Μεζονέτα',\n",
       "       'House_type_Μονοκατοικία', 'House_type_Συγκρότημα διαμερισμάτων',\n",
       "       'Location_aprox_Agia_triada', 'Location_aprox_Ampelokipoi',\n",
       "       'Location_aprox_Analipsi', 'Location_aprox_Ano_poli_Evaggelistria',\n",
       "       'Location_aprox_Center_east_of_aristotle_square',\n",
       "       'Location_aprox_Center_west_of_including_aristotle_square',\n",
       "       'Location_aprox_Efkarpia_Nikopoli', 'Location_aprox_Evosmos_Kordelio',\n",
       "       'Location_aprox_Kalamaria', 'Location_aprox_Menemeni_lachanokipoi',\n",
       "       'Location_aprox_Neapoli', 'Location_aprox_Oreokastro',\n",
       "       'Location_aprox_Panorama', 'Location_aprox_Peraia',\n",
       "       'Location_aprox_Peuka', 'Location_aprox_Polichni',\n",
       "       'Location_aprox_Pylaia', 'Location_aprox_Sindos_Diavata',\n",
       "       'Location_aprox_Stavroupoli', 'Location_aprox_Sykies',\n",
       "       'Location_aprox_Thermi', 'Location_aprox_Toumpa',\n",
       "       'Location_aprox_Triandria', 'Location_aprox_Vardaris_xirokrini',\n",
       "       'Location_aprox_Voulgari_Ntepo', 'Location_aprox_Xarilaou',\n",
       "       'Location_aprox_out_of_thessaloniki'],\n",
       "      dtype='object')"
      ]
     },
     "execution_count": 16,
     "metadata": {},
     "output_type": "execute_result"
    }
   ],
   "source": [
    "X.columns"
   ]
  },
  {
   "cell_type": "code",
   "execution_count": 17,
   "metadata": {},
   "outputs": [
    {
     "data": {
      "text/html": [
       "<div>\n",
       "<style scoped>\n",
       "    .dataframe tbody tr th:only-of-type {\n",
       "        vertical-align: middle;\n",
       "    }\n",
       "\n",
       "    .dataframe tbody tr th {\n",
       "        vertical-align: top;\n",
       "    }\n",
       "\n",
       "    .dataframe thead th {\n",
       "        text-align: right;\n",
       "    }\n",
       "</style>\n",
       "<table border=\"1\" class=\"dataframe\">\n",
       "  <thead>\n",
       "    <tr style=\"text-align: right;\">\n",
       "      <th></th>\n",
       "      <th>Total_area (square meters)</th>\n",
       "      <th>Floor</th>\n",
       "      <th>Rooms</th>\n",
       "      <th>Bathrooms</th>\n",
       "      <th>Year_of_construction</th>\n",
       "    </tr>\n",
       "  </thead>\n",
       "  <tbody>\n",
       "    <tr>\n",
       "      <th>0</th>\n",
       "      <td>170.0</td>\n",
       "      <td>7.0</td>\n",
       "      <td>3.0</td>\n",
       "      <td>2.0</td>\n",
       "      <td>1952.0</td>\n",
       "    </tr>\n",
       "    <tr>\n",
       "      <th>1</th>\n",
       "      <td>70.0</td>\n",
       "      <td>7.0</td>\n",
       "      <td>2.0</td>\n",
       "      <td>1.0</td>\n",
       "      <td>1952.0</td>\n",
       "    </tr>\n",
       "    <tr>\n",
       "      <th>2</th>\n",
       "      <td>70.0</td>\n",
       "      <td>7.0</td>\n",
       "      <td>2.0</td>\n",
       "      <td>1.0</td>\n",
       "      <td>1952.0</td>\n",
       "    </tr>\n",
       "    <tr>\n",
       "      <th>3</th>\n",
       "      <td>70.0</td>\n",
       "      <td>7.0</td>\n",
       "      <td>2.0</td>\n",
       "      <td>1.0</td>\n",
       "      <td>1952.0</td>\n",
       "    </tr>\n",
       "    <tr>\n",
       "      <th>4</th>\n",
       "      <td>71.0</td>\n",
       "      <td>1.0</td>\n",
       "      <td>2.0</td>\n",
       "      <td>1.0</td>\n",
       "      <td>1952.0</td>\n",
       "    </tr>\n",
       "    <tr>\n",
       "      <th>...</th>\n",
       "      <td>...</td>\n",
       "      <td>...</td>\n",
       "      <td>...</td>\n",
       "      <td>...</td>\n",
       "      <td>...</td>\n",
       "    </tr>\n",
       "    <tr>\n",
       "      <th>63026</th>\n",
       "      <td>138.0</td>\n",
       "      <td>8.0</td>\n",
       "      <td>4.0</td>\n",
       "      <td>2.0</td>\n",
       "      <td>2022.0</td>\n",
       "    </tr>\n",
       "    <tr>\n",
       "      <th>63027</th>\n",
       "      <td>156.0</td>\n",
       "      <td>6.0</td>\n",
       "      <td>2.0</td>\n",
       "      <td>1.0</td>\n",
       "      <td>2022.0</td>\n",
       "    </tr>\n",
       "    <tr>\n",
       "      <th>63028</th>\n",
       "      <td>87.0</td>\n",
       "      <td>1.0</td>\n",
       "      <td>2.0</td>\n",
       "      <td>1.0</td>\n",
       "      <td>2022.0</td>\n",
       "    </tr>\n",
       "    <tr>\n",
       "      <th>63029</th>\n",
       "      <td>153.0</td>\n",
       "      <td>6.0</td>\n",
       "      <td>4.0</td>\n",
       "      <td>1.0</td>\n",
       "      <td>2022.0</td>\n",
       "    </tr>\n",
       "    <tr>\n",
       "      <th>63030</th>\n",
       "      <td>120.0</td>\n",
       "      <td>5.0</td>\n",
       "      <td>3.0</td>\n",
       "      <td>2.0</td>\n",
       "      <td>2022.0</td>\n",
       "    </tr>\n",
       "  </tbody>\n",
       "</table>\n",
       "<p>63031 rows × 5 columns</p>\n",
       "</div>"
      ],
      "text/plain": [
       "       Total_area (square meters)  Floor  Rooms  Bathrooms  \\\n",
       "0                           170.0    7.0    3.0        2.0   \n",
       "1                            70.0    7.0    2.0        1.0   \n",
       "2                            70.0    7.0    2.0        1.0   \n",
       "3                            70.0    7.0    2.0        1.0   \n",
       "4                            71.0    1.0    2.0        1.0   \n",
       "...                           ...    ...    ...        ...   \n",
       "63026                       138.0    8.0    4.0        2.0   \n",
       "63027                       156.0    6.0    2.0        1.0   \n",
       "63028                        87.0    1.0    2.0        1.0   \n",
       "63029                       153.0    6.0    4.0        1.0   \n",
       "63030                       120.0    5.0    3.0        2.0   \n",
       "\n",
       "       Year_of_construction  \n",
       "0                    1952.0  \n",
       "1                    1952.0  \n",
       "2                    1952.0  \n",
       "3                    1952.0  \n",
       "4                    1952.0  \n",
       "...                     ...  \n",
       "63026                2022.0  \n",
       "63027                2022.0  \n",
       "63028                2022.0  \n",
       "63029                2022.0  \n",
       "63030                2022.0  \n",
       "\n",
       "[63031 rows x 5 columns]"
      ]
     },
     "execution_count": 17,
     "metadata": {},
     "output_type": "execute_result"
    }
   ],
   "source": [
    "X_numeric=X[['Total_area (square meters)', 'Floor', 'Rooms', 'Bathrooms',\n",
    "       'Year_of_construction']]\n",
    "X_catergorical=X[['House_type_Loft',\n",
    "       'House_type_Studio / Γκαρσονιέρα', 'House_type_Βίλα',\n",
    "       'House_type_Διαμέρισμα', 'House_type_Κτίριο',\n",
    "       'House_type_Λοιπές κατηγορίες', 'House_type_Μεζονέτα',\n",
    "       'House_type_Μονοκατοικία', 'House_type_Συγκρότημα διαμερισμάτων',\n",
    "       'Location_aprox_Agia_triada', 'Location_aprox_Ampelokipoi',\n",
    "       'Location_aprox_Analipsi', 'Location_aprox_Ano_poli_Evaggelistria',\n",
    "       'Location_aprox_Center_east_of_aristotle_square',\n",
    "       'Location_aprox_Center_west_of_including_aristotle_square',\n",
    "       'Location_aprox_Efkarpia_Nikopoli', 'Location_aprox_Evosmos_Kordelio',\n",
    "       'Location_aprox_Kalamaria', 'Location_aprox_Menemeni_lachanokipoi',\n",
    "       'Location_aprox_Neapoli', 'Location_aprox_Oreokastro',\n",
    "       'Location_aprox_Panorama', 'Location_aprox_Peraia',\n",
    "       'Location_aprox_Peuka', 'Location_aprox_Polichni',\n",
    "       'Location_aprox_Pylaia', 'Location_aprox_Sindos_Diavata',\n",
    "       'Location_aprox_Stavroupoli', 'Location_aprox_Sykies',\n",
    "       'Location_aprox_Thermi', 'Location_aprox_Toumpa',\n",
    "       'Location_aprox_Triandria', 'Location_aprox_Vardaris_xirokrini',\n",
    "       'Location_aprox_Voulgari_Ntepo', 'Location_aprox_Xarilaou',\n",
    "       'Location_aprox_out_of_thessaloniki']]\n",
    "X_numeric"
   ]
  },
  {
   "cell_type": "code",
   "execution_count": 18,
   "metadata": {},
   "outputs": [],
   "source": [
    "transform = preprocessing.StandardScaler()\n",
    "X_numeric=transform.fit(X_numeric).transform(X_numeric)\n",
    "X_numeric=pd.DataFrame(X_numeric,columns=['Total_area (square meters)', 'Floor', 'Rooms', 'Bathrooms',\n",
    "       'Year_of_construction'])\n"
   ]
  },
  {
   "cell_type": "code",
   "execution_count": 43,
   "metadata": {},
   "outputs": [],
   "source": [
    "def NormalizeData(data):\n",
    "    transform = preprocessing.StandardScaler()\n",
    "    data_normalized=transform.fit(data).transform(data)\n",
    "    data_normalized=pd.DataFrame(data_normalized,columns=['Total_area (square meters)', 'Price (in €)', 'Floor', 'Rooms',\n",
    "       'Bathrooms', 'Year_of_construction', \n",
    "       'House_type_Studio / Γκαρσονιέρα', 'House_type_Βίλα',\n",
    "       'House_type_Διαμέρισμα', 'House_type_Κτίριο',\n",
    "       'House_type_Λοιπές κατηγορίες', 'House_type_Μεζονέτα',\n",
    "       'House_type_Μονοκατοικία', 'House_type_Συγκρότημα διαμερισμάτων',\n",
    "       'Location_aprox_Agia_triada', 'Location_aprox_Ampelokipoi',\n",
    "       'Location_aprox_Analipsi', 'Location_aprox_Ano_poli_Evaggelistria',\n",
    "       'Location_aprox_Center_east_of_aristotle_square',\n",
    "       'Location_aprox_Center_west_of_including_aristotle_square',\n",
    "       'Location_aprox_Efkarpia_Nikopoli', 'Location_aprox_Evosmos_Kordelio',\n",
    "       'Location_aprox_Kalamaria', 'Location_aprox_Menemeni_lachanokipoi',\n",
    "       'Location_aprox_Neapoli', 'Location_aprox_Oreokastro',\n",
    "       'Location_aprox_Panorama', 'Location_aprox_Peraia',\n",
    "       'Location_aprox_Peuka', 'Location_aprox_Polichni',\n",
    "       'Location_aprox_Pylaia', 'Location_aprox_Sindos_Diavata',\n",
    "       'Location_aprox_Stavroupoli', 'Location_aprox_Sykies',\n",
    "       'Location_aprox_Thermi', 'Location_aprox_Toumpa',\n",
    "       'Location_aprox_Triandria', 'Location_aprox_Vardaris_xirokrini',\n",
    "       'Location_aprox_Voulgari_Ntepo', 'Location_aprox_Xarilaou',\n",
    "       'Location_aprox_out_of_thessaloniki'])\n",
    "    return(data_normalized)"
   ]
  },
  {
   "cell_type": "code",
   "execution_count": 19,
   "metadata": {},
   "outputs": [],
   "source": [
    "X_catergorical.to_numpy()\n",
    "X_normalized=np.concatenate([X_numeric,X_catergorical],axis=1)\n",
    "#fit_Y=transform.fit(Y)"
   ]
  },
  {
   "cell_type": "code",
   "execution_count": 20,
   "metadata": {},
   "outputs": [
    {
     "data": {
      "text/plain": [
       "array([[ 0.53870753,  2.54521972,  0.46547316, ...,  0.        ,\n",
       "         0.        ,  0.        ],\n",
       "       [-0.49793861,  2.54521972, -0.2840667 , ...,  0.        ,\n",
       "         0.        ,  0.        ],\n",
       "       [-0.49793861,  2.54521972, -0.2840667 , ...,  0.        ,\n",
       "         0.        ,  0.        ],\n",
       "       ...,\n",
       "       [-0.32170877, -0.5890529 , -0.2840667 , ...,  0.        ,\n",
       "         0.        ,  0.        ],\n",
       "       [ 0.36247768,  2.02284095,  1.21501303, ...,  0.        ,\n",
       "         0.        ,  0.        ],\n",
       "       [ 0.02038446,  1.50046218,  0.46547316, ...,  0.        ,\n",
       "         0.        ,  0.        ]])"
      ]
     },
     "execution_count": 20,
     "metadata": {},
     "output_type": "execute_result"
    }
   ],
   "source": [
    "X_normalized"
   ]
  },
  {
   "cell_type": "code",
   "execution_count": 21,
   "metadata": {},
   "outputs": [],
   "source": [
    "X_train,X_test,Y_train,Y_test=model_selection.train_test_split(X_normalized,Y,test_size=0.1)"
   ]
  },
  {
   "cell_type": "code",
   "execution_count": 22,
   "metadata": {},
   "outputs": [
    {
     "data": {
      "text/html": [
       "<style>#sk-container-id-1 {color: black;}#sk-container-id-1 pre{padding: 0;}#sk-container-id-1 div.sk-toggleable {background-color: white;}#sk-container-id-1 label.sk-toggleable__label {cursor: pointer;display: block;width: 100%;margin-bottom: 0;padding: 0.3em;box-sizing: border-box;text-align: center;}#sk-container-id-1 label.sk-toggleable__label-arrow:before {content: \"▸\";float: left;margin-right: 0.25em;color: #696969;}#sk-container-id-1 label.sk-toggleable__label-arrow:hover:before {color: black;}#sk-container-id-1 div.sk-estimator:hover label.sk-toggleable__label-arrow:before {color: black;}#sk-container-id-1 div.sk-toggleable__content {max-height: 0;max-width: 0;overflow: hidden;text-align: left;background-color: #f0f8ff;}#sk-container-id-1 div.sk-toggleable__content pre {margin: 0.2em;color: black;border-radius: 0.25em;background-color: #f0f8ff;}#sk-container-id-1 input.sk-toggleable__control:checked~div.sk-toggleable__content {max-height: 200px;max-width: 100%;overflow: auto;}#sk-container-id-1 input.sk-toggleable__control:checked~label.sk-toggleable__label-arrow:before {content: \"▾\";}#sk-container-id-1 div.sk-estimator input.sk-toggleable__control:checked~label.sk-toggleable__label {background-color: #d4ebff;}#sk-container-id-1 div.sk-label input.sk-toggleable__control:checked~label.sk-toggleable__label {background-color: #d4ebff;}#sk-container-id-1 input.sk-hidden--visually {border: 0;clip: rect(1px 1px 1px 1px);clip: rect(1px, 1px, 1px, 1px);height: 1px;margin: -1px;overflow: hidden;padding: 0;position: absolute;width: 1px;}#sk-container-id-1 div.sk-estimator {font-family: monospace;background-color: #f0f8ff;border: 1px dotted black;border-radius: 0.25em;box-sizing: border-box;margin-bottom: 0.5em;}#sk-container-id-1 div.sk-estimator:hover {background-color: #d4ebff;}#sk-container-id-1 div.sk-parallel-item::after {content: \"\";width: 100%;border-bottom: 1px solid gray;flex-grow: 1;}#sk-container-id-1 div.sk-label:hover label.sk-toggleable__label {background-color: #d4ebff;}#sk-container-id-1 div.sk-serial::before {content: \"\";position: absolute;border-left: 1px solid gray;box-sizing: border-box;top: 0;bottom: 0;left: 50%;z-index: 0;}#sk-container-id-1 div.sk-serial {display: flex;flex-direction: column;align-items: center;background-color: white;padding-right: 0.2em;padding-left: 0.2em;position: relative;}#sk-container-id-1 div.sk-item {position: relative;z-index: 1;}#sk-container-id-1 div.sk-parallel {display: flex;align-items: stretch;justify-content: center;background-color: white;position: relative;}#sk-container-id-1 div.sk-item::before, #sk-container-id-1 div.sk-parallel-item::before {content: \"\";position: absolute;border-left: 1px solid gray;box-sizing: border-box;top: 0;bottom: 0;left: 50%;z-index: -1;}#sk-container-id-1 div.sk-parallel-item {display: flex;flex-direction: column;z-index: 1;position: relative;background-color: white;}#sk-container-id-1 div.sk-parallel-item:first-child::after {align-self: flex-end;width: 50%;}#sk-container-id-1 div.sk-parallel-item:last-child::after {align-self: flex-start;width: 50%;}#sk-container-id-1 div.sk-parallel-item:only-child::after {width: 0;}#sk-container-id-1 div.sk-dashed-wrapped {border: 1px dashed gray;margin: 0 0.4em 0.5em 0.4em;box-sizing: border-box;padding-bottom: 0.4em;background-color: white;}#sk-container-id-1 div.sk-label label {font-family: monospace;font-weight: bold;display: inline-block;line-height: 1.2em;}#sk-container-id-1 div.sk-label-container {text-align: center;}#sk-container-id-1 div.sk-container {/* jupyter's `normalize.less` sets `[hidden] { display: none; }` but bootstrap.min.css set `[hidden] { display: none !important; }` so we also need the `!important` here to be able to override the default hidden behavior on the sphinx rendered scikit-learn.org. See: https://github.com/scikit-learn/scikit-learn/issues/21755 */display: inline-block !important;position: relative;}#sk-container-id-1 div.sk-text-repr-fallback {display: none;}</style><div id=\"sk-container-id-1\" class=\"sk-top-container\"><div class=\"sk-text-repr-fallback\"><pre>LinearRegression()</pre><b>In a Jupyter environment, please rerun this cell to show the HTML representation or trust the notebook. <br />On GitHub, the HTML representation is unable to render, please try loading this page with nbviewer.org.</b></div><div class=\"sk-container\" hidden><div class=\"sk-item\"><div class=\"sk-estimator sk-toggleable\"><input class=\"sk-toggleable__control sk-hidden--visually\" id=\"sk-estimator-id-1\" type=\"checkbox\" checked><label for=\"sk-estimator-id-1\" class=\"sk-toggleable__label sk-toggleable__label-arrow\">LinearRegression</label><div class=\"sk-toggleable__content\"><pre>LinearRegression()</pre></div></div></div></div></div>"
      ],
      "text/plain": [
       "LinearRegression()"
      ]
     },
     "execution_count": 22,
     "metadata": {},
     "output_type": "execute_result"
    }
   ],
   "source": [
    "reg=linear_model.LinearRegression()\n",
    "reg.fit(X_train,Y_train)\n"
   ]
  },
  {
   "cell_type": "code",
   "execution_count": 23,
   "metadata": {},
   "outputs": [
    {
     "data": {
      "text/plain": [
       "0.6860925355950582"
      ]
     },
     "execution_count": 23,
     "metadata": {},
     "output_type": "execute_result"
    }
   ],
   "source": [
    "reg.score(X_test,Y_test)"
   ]
  },
  {
   "cell_type": "code",
   "execution_count": 24,
   "metadata": {},
   "outputs": [],
   "source": [
    "y_pred=reg.predict(X_test)"
   ]
  },
  {
   "cell_type": "code",
   "execution_count": 26,
   "metadata": {},
   "outputs": [
    {
     "data": {
      "text/plain": [
       "0.6860925355950582"
      ]
     },
     "execution_count": 26,
     "metadata": {},
     "output_type": "execute_result"
    }
   ],
   "source": [
    "metrics.r2_score(Y_test,y_pred)"
   ]
  },
  {
   "cell_type": "code",
   "execution_count": 27,
   "metadata": {},
   "outputs": [
    {
     "data": {
      "text/plain": [
       "(63031, 42)"
      ]
     },
     "execution_count": 27,
     "metadata": {},
     "output_type": "execute_result"
    }
   ],
   "source": [
    "df2_normalized=transform.fit(df2).transform(df2)\n",
    "df2_normalized.shape"
   ]
  },
  {
   "cell_type": "code",
   "execution_count": 28,
   "metadata": {},
   "outputs": [],
   "source": [
    "df2_normalized=pd.DataFrame(df2_normalized,columns=['Total_area (square meters)', 'Price (in €)', 'Floor', 'Rooms',\n",
    "       'Bathrooms', 'Year_of_construction', 'House_type_Loft',\n",
    "       'House_type_Studio / Γκαρσονιέρα', 'House_type_Βίλα',\n",
    "       'House_type_Διαμέρισμα', 'House_type_Κτίριο',\n",
    "       'House_type_Λοιπές κατηγορίες', 'House_type_Μεζονέτα',\n",
    "       'House_type_Μονοκατοικία', 'House_type_Συγκρότημα διαμερισμάτων',\n",
    "       'Location_aprox_Agia_triada', 'Location_aprox_Ampelokipoi',\n",
    "       'Location_aprox_Analipsi', 'Location_aprox_Ano_poli_Evaggelistria',\n",
    "       'Location_aprox_Center_east_of_aristotle_square',\n",
    "       'Location_aprox_Center_west_of_including_aristotle_square',\n",
    "       'Location_aprox_Efkarpia_Nikopoli', 'Location_aprox_Evosmos_Kordelio',\n",
    "       'Location_aprox_Kalamaria', 'Location_aprox_Menemeni_lachanokipoi',\n",
    "       'Location_aprox_Neapoli', 'Location_aprox_Oreokastro',\n",
    "       'Location_aprox_Panorama', 'Location_aprox_Peraia',\n",
    "       'Location_aprox_Peuka', 'Location_aprox_Polichni',\n",
    "       'Location_aprox_Pylaia', 'Location_aprox_Sindos_Diavata',\n",
    "       'Location_aprox_Stavroupoli', 'Location_aprox_Sykies',\n",
    "       'Location_aprox_Thermi', 'Location_aprox_Toumpa',\n",
    "       'Location_aprox_Triandria', 'Location_aprox_Vardaris_xirokrini',\n",
    "       'Location_aprox_Voulgari_Ntepo', 'Location_aprox_Xarilaou',\n",
    "       'Location_aprox_out_of_thessaloniki'])"
   ]
  },
  {
   "cell_type": "code",
   "execution_count": 29,
   "metadata": {},
   "outputs": [],
   "source": [
    "X1_normalized=df2_normalized.drop(columns=['Price (in €)'])\n",
    "y1_normalized=df2_normalized[\"Price (in €)\"]"
   ]
  },
  {
   "cell_type": "code",
   "execution_count": null,
   "metadata": {},
   "outputs": [],
   "source": [
    "X1_train,X1_test,Y1_train,Y1_test=model_selection.train_test_split(X1_normalized,y1_normalized,test_size=0.1)\n"
   ]
  },
  {
   "cell_type": "code",
   "execution_count": 31,
   "metadata": {},
   "outputs": [
    {
     "data": {
      "text/html": [
       "<style>#sk-container-id-2 {color: black;}#sk-container-id-2 pre{padding: 0;}#sk-container-id-2 div.sk-toggleable {background-color: white;}#sk-container-id-2 label.sk-toggleable__label {cursor: pointer;display: block;width: 100%;margin-bottom: 0;padding: 0.3em;box-sizing: border-box;text-align: center;}#sk-container-id-2 label.sk-toggleable__label-arrow:before {content: \"▸\";float: left;margin-right: 0.25em;color: #696969;}#sk-container-id-2 label.sk-toggleable__label-arrow:hover:before {color: black;}#sk-container-id-2 div.sk-estimator:hover label.sk-toggleable__label-arrow:before {color: black;}#sk-container-id-2 div.sk-toggleable__content {max-height: 0;max-width: 0;overflow: hidden;text-align: left;background-color: #f0f8ff;}#sk-container-id-2 div.sk-toggleable__content pre {margin: 0.2em;color: black;border-radius: 0.25em;background-color: #f0f8ff;}#sk-container-id-2 input.sk-toggleable__control:checked~div.sk-toggleable__content {max-height: 200px;max-width: 100%;overflow: auto;}#sk-container-id-2 input.sk-toggleable__control:checked~label.sk-toggleable__label-arrow:before {content: \"▾\";}#sk-container-id-2 div.sk-estimator input.sk-toggleable__control:checked~label.sk-toggleable__label {background-color: #d4ebff;}#sk-container-id-2 div.sk-label input.sk-toggleable__control:checked~label.sk-toggleable__label {background-color: #d4ebff;}#sk-container-id-2 input.sk-hidden--visually {border: 0;clip: rect(1px 1px 1px 1px);clip: rect(1px, 1px, 1px, 1px);height: 1px;margin: -1px;overflow: hidden;padding: 0;position: absolute;width: 1px;}#sk-container-id-2 div.sk-estimator {font-family: monospace;background-color: #f0f8ff;border: 1px dotted black;border-radius: 0.25em;box-sizing: border-box;margin-bottom: 0.5em;}#sk-container-id-2 div.sk-estimator:hover {background-color: #d4ebff;}#sk-container-id-2 div.sk-parallel-item::after {content: \"\";width: 100%;border-bottom: 1px solid gray;flex-grow: 1;}#sk-container-id-2 div.sk-label:hover label.sk-toggleable__label {background-color: #d4ebff;}#sk-container-id-2 div.sk-serial::before {content: \"\";position: absolute;border-left: 1px solid gray;box-sizing: border-box;top: 0;bottom: 0;left: 50%;z-index: 0;}#sk-container-id-2 div.sk-serial {display: flex;flex-direction: column;align-items: center;background-color: white;padding-right: 0.2em;padding-left: 0.2em;position: relative;}#sk-container-id-2 div.sk-item {position: relative;z-index: 1;}#sk-container-id-2 div.sk-parallel {display: flex;align-items: stretch;justify-content: center;background-color: white;position: relative;}#sk-container-id-2 div.sk-item::before, #sk-container-id-2 div.sk-parallel-item::before {content: \"\";position: absolute;border-left: 1px solid gray;box-sizing: border-box;top: 0;bottom: 0;left: 50%;z-index: -1;}#sk-container-id-2 div.sk-parallel-item {display: flex;flex-direction: column;z-index: 1;position: relative;background-color: white;}#sk-container-id-2 div.sk-parallel-item:first-child::after {align-self: flex-end;width: 50%;}#sk-container-id-2 div.sk-parallel-item:last-child::after {align-self: flex-start;width: 50%;}#sk-container-id-2 div.sk-parallel-item:only-child::after {width: 0;}#sk-container-id-2 div.sk-dashed-wrapped {border: 1px dashed gray;margin: 0 0.4em 0.5em 0.4em;box-sizing: border-box;padding-bottom: 0.4em;background-color: white;}#sk-container-id-2 div.sk-label label {font-family: monospace;font-weight: bold;display: inline-block;line-height: 1.2em;}#sk-container-id-2 div.sk-label-container {text-align: center;}#sk-container-id-2 div.sk-container {/* jupyter's `normalize.less` sets `[hidden] { display: none; }` but bootstrap.min.css set `[hidden] { display: none !important; }` so we also need the `!important` here to be able to override the default hidden behavior on the sphinx rendered scikit-learn.org. See: https://github.com/scikit-learn/scikit-learn/issues/21755 */display: inline-block !important;position: relative;}#sk-container-id-2 div.sk-text-repr-fallback {display: none;}</style><div id=\"sk-container-id-2\" class=\"sk-top-container\"><div class=\"sk-text-repr-fallback\"><pre>LinearRegression()</pre><b>In a Jupyter environment, please rerun this cell to show the HTML representation or trust the notebook. <br />On GitHub, the HTML representation is unable to render, please try loading this page with nbviewer.org.</b></div><div class=\"sk-container\" hidden><div class=\"sk-item\"><div class=\"sk-estimator sk-toggleable\"><input class=\"sk-toggleable__control sk-hidden--visually\" id=\"sk-estimator-id-2\" type=\"checkbox\" checked><label for=\"sk-estimator-id-2\" class=\"sk-toggleable__label sk-toggleable__label-arrow\">LinearRegression</label><div class=\"sk-toggleable__content\"><pre>LinearRegression()</pre></div></div></div></div></div>"
      ],
      "text/plain": [
       "LinearRegression()"
      ]
     },
     "execution_count": 31,
     "metadata": {},
     "output_type": "execute_result"
    }
   ],
   "source": [
    "reg=linear_model.LinearRegression()\n",
    "reg.fit(X1_train,Y1_train)"
   ]
  },
  {
   "cell_type": "code",
   "execution_count": 46,
   "metadata": {},
   "outputs": [],
   "source": [
    "def test__train_split(data):\n",
    "    x_norm=data.drop(columns=['Price (in €)'])\n",
    "    y_norm=data[\"Price (in €)\"]\n",
    "    X_train,X_test,Y_train,Y_test=model_selection.train_test_split(x_norm,y_norm,test_size=0.1)\n",
    "    return(X_train,X_test,Y_train,Y_test)"
   ]
  },
  {
   "cell_type": "code",
   "execution_count": 32,
   "metadata": {},
   "outputs": [
    {
     "data": {
      "text/plain": [
       "0.7082385132145271"
      ]
     },
     "execution_count": 32,
     "metadata": {},
     "output_type": "execute_result"
    }
   ],
   "source": [
    "reg.score(X1_test,Y1_test)"
   ]
  },
  {
   "cell_type": "code",
   "execution_count": 55,
   "metadata": {},
   "outputs": [
    {
     "data": {
      "text/plain": [
       "Index(['Total_area (square meters)', 'Price (in €)', 'Floor', 'Rooms',\n",
       "       'Bathrooms', 'Year_of_construction', 'House_type_Studio / Γκαρσονιέρα',\n",
       "       'House_type_Βίλα', 'House_type_Διαμέρισμα', 'House_type_Κτίριο',\n",
       "       'House_type_Λοιπές κατηγορίες', 'House_type_Μεζονέτα',\n",
       "       'House_type_Μονοκατοικία', 'House_type_Συγκρότημα διαμερισμάτων',\n",
       "       'Location_aprox_Agia_triada', 'Location_aprox_Ampelokipoi',\n",
       "       'Location_aprox_Analipsi', 'Location_aprox_Ano_poli_Evaggelistria',\n",
       "       'Location_aprox_Center_east_of_aristotle_square',\n",
       "       'Location_aprox_Center_west_of_including_aristotle_square',\n",
       "       'Location_aprox_Efkarpia_Nikopoli', 'Location_aprox_Evosmos_Kordelio',\n",
       "       'Location_aprox_Kalamaria', 'Location_aprox_Menemeni_lachanokipoi',\n",
       "       'Location_aprox_Neapoli', 'Location_aprox_Oreokastro',\n",
       "       'Location_aprox_Panorama', 'Location_aprox_Peraia',\n",
       "       'Location_aprox_Peuka', 'Location_aprox_Polichni',\n",
       "       'Location_aprox_Pylaia', 'Location_aprox_Sindos_Diavata',\n",
       "       'Location_aprox_Stavroupoli', 'Location_aprox_Sykies',\n",
       "       'Location_aprox_Thermi', 'Location_aprox_Toumpa',\n",
       "       'Location_aprox_Triandria', 'Location_aprox_Vardaris_xirokrini',\n",
       "       'Location_aprox_Voulgari_Ntepo', 'Location_aprox_Xarilaou',\n",
       "       'Location_aprox_out_of_thessaloniki'],\n",
       "      dtype='object')"
      ]
     },
     "execution_count": 55,
     "metadata": {},
     "output_type": "execute_result"
    }
   ],
   "source": [
    "df3_norm=NormalizeData(df3)\n",
    "df3_norm.columns"
   ]
  },
  {
   "cell_type": "code",
   "execution_count": 57,
   "metadata": {},
   "outputs": [],
   "source": [
    "df3_norm.drop(columns=[\"Location_aprox_Sindos_Diavata\"],inplace=True)"
   ]
  },
  {
   "cell_type": "code",
   "execution_count": 58,
   "metadata": {},
   "outputs": [],
   "source": [
    "x3_train,x3_test,y3_train,y3_test=test__train_split(df3_norm)"
   ]
  },
  {
   "cell_type": "code",
   "execution_count": 59,
   "metadata": {},
   "outputs": [
    {
     "data": {
      "text/html": [
       "<style>#sk-container-id-4 {color: black;}#sk-container-id-4 pre{padding: 0;}#sk-container-id-4 div.sk-toggleable {background-color: white;}#sk-container-id-4 label.sk-toggleable__label {cursor: pointer;display: block;width: 100%;margin-bottom: 0;padding: 0.3em;box-sizing: border-box;text-align: center;}#sk-container-id-4 label.sk-toggleable__label-arrow:before {content: \"▸\";float: left;margin-right: 0.25em;color: #696969;}#sk-container-id-4 label.sk-toggleable__label-arrow:hover:before {color: black;}#sk-container-id-4 div.sk-estimator:hover label.sk-toggleable__label-arrow:before {color: black;}#sk-container-id-4 div.sk-toggleable__content {max-height: 0;max-width: 0;overflow: hidden;text-align: left;background-color: #f0f8ff;}#sk-container-id-4 div.sk-toggleable__content pre {margin: 0.2em;color: black;border-radius: 0.25em;background-color: #f0f8ff;}#sk-container-id-4 input.sk-toggleable__control:checked~div.sk-toggleable__content {max-height: 200px;max-width: 100%;overflow: auto;}#sk-container-id-4 input.sk-toggleable__control:checked~label.sk-toggleable__label-arrow:before {content: \"▾\";}#sk-container-id-4 div.sk-estimator input.sk-toggleable__control:checked~label.sk-toggleable__label {background-color: #d4ebff;}#sk-container-id-4 div.sk-label input.sk-toggleable__control:checked~label.sk-toggleable__label {background-color: #d4ebff;}#sk-container-id-4 input.sk-hidden--visually {border: 0;clip: rect(1px 1px 1px 1px);clip: rect(1px, 1px, 1px, 1px);height: 1px;margin: -1px;overflow: hidden;padding: 0;position: absolute;width: 1px;}#sk-container-id-4 div.sk-estimator {font-family: monospace;background-color: #f0f8ff;border: 1px dotted black;border-radius: 0.25em;box-sizing: border-box;margin-bottom: 0.5em;}#sk-container-id-4 div.sk-estimator:hover {background-color: #d4ebff;}#sk-container-id-4 div.sk-parallel-item::after {content: \"\";width: 100%;border-bottom: 1px solid gray;flex-grow: 1;}#sk-container-id-4 div.sk-label:hover label.sk-toggleable__label {background-color: #d4ebff;}#sk-container-id-4 div.sk-serial::before {content: \"\";position: absolute;border-left: 1px solid gray;box-sizing: border-box;top: 0;bottom: 0;left: 50%;z-index: 0;}#sk-container-id-4 div.sk-serial {display: flex;flex-direction: column;align-items: center;background-color: white;padding-right: 0.2em;padding-left: 0.2em;position: relative;}#sk-container-id-4 div.sk-item {position: relative;z-index: 1;}#sk-container-id-4 div.sk-parallel {display: flex;align-items: stretch;justify-content: center;background-color: white;position: relative;}#sk-container-id-4 div.sk-item::before, #sk-container-id-4 div.sk-parallel-item::before {content: \"\";position: absolute;border-left: 1px solid gray;box-sizing: border-box;top: 0;bottom: 0;left: 50%;z-index: -1;}#sk-container-id-4 div.sk-parallel-item {display: flex;flex-direction: column;z-index: 1;position: relative;background-color: white;}#sk-container-id-4 div.sk-parallel-item:first-child::after {align-self: flex-end;width: 50%;}#sk-container-id-4 div.sk-parallel-item:last-child::after {align-self: flex-start;width: 50%;}#sk-container-id-4 div.sk-parallel-item:only-child::after {width: 0;}#sk-container-id-4 div.sk-dashed-wrapped {border: 1px dashed gray;margin: 0 0.4em 0.5em 0.4em;box-sizing: border-box;padding-bottom: 0.4em;background-color: white;}#sk-container-id-4 div.sk-label label {font-family: monospace;font-weight: bold;display: inline-block;line-height: 1.2em;}#sk-container-id-4 div.sk-label-container {text-align: center;}#sk-container-id-4 div.sk-container {/* jupyter's `normalize.less` sets `[hidden] { display: none; }` but bootstrap.min.css set `[hidden] { display: none !important; }` so we also need the `!important` here to be able to override the default hidden behavior on the sphinx rendered scikit-learn.org. See: https://github.com/scikit-learn/scikit-learn/issues/21755 */display: inline-block !important;position: relative;}#sk-container-id-4 div.sk-text-repr-fallback {display: none;}</style><div id=\"sk-container-id-4\" class=\"sk-top-container\"><div class=\"sk-text-repr-fallback\"><pre>LinearRegression()</pre><b>In a Jupyter environment, please rerun this cell to show the HTML representation or trust the notebook. <br />On GitHub, the HTML representation is unable to render, please try loading this page with nbviewer.org.</b></div><div class=\"sk-container\" hidden><div class=\"sk-item\"><div class=\"sk-estimator sk-toggleable\"><input class=\"sk-toggleable__control sk-hidden--visually\" id=\"sk-estimator-id-4\" type=\"checkbox\" checked><label for=\"sk-estimator-id-4\" class=\"sk-toggleable__label sk-toggleable__label-arrow\">LinearRegression</label><div class=\"sk-toggleable__content\"><pre>LinearRegression()</pre></div></div></div></div></div>"
      ],
      "text/plain": [
       "LinearRegression()"
      ]
     },
     "execution_count": 59,
     "metadata": {},
     "output_type": "execute_result"
    }
   ],
   "source": [
    "reg.fit(x3_train,y3_train)"
   ]
  },
  {
   "cell_type": "code",
   "execution_count": 60,
   "metadata": {},
   "outputs": [
    {
     "data": {
      "text/plain": [
       "0.6610098573800862"
      ]
     },
     "execution_count": 60,
     "metadata": {},
     "output_type": "execute_result"
    }
   ],
   "source": [
    "reg.score(x3_test,y3_test)"
   ]
  },
  {
   "cell_type": "code",
   "execution_count": 62,
   "metadata": {},
   "outputs": [
    {
     "data": {
      "text/html": [
       "<style>#sk-container-id-5 {color: black;}#sk-container-id-5 pre{padding: 0;}#sk-container-id-5 div.sk-toggleable {background-color: white;}#sk-container-id-5 label.sk-toggleable__label {cursor: pointer;display: block;width: 100%;margin-bottom: 0;padding: 0.3em;box-sizing: border-box;text-align: center;}#sk-container-id-5 label.sk-toggleable__label-arrow:before {content: \"▸\";float: left;margin-right: 0.25em;color: #696969;}#sk-container-id-5 label.sk-toggleable__label-arrow:hover:before {color: black;}#sk-container-id-5 div.sk-estimator:hover label.sk-toggleable__label-arrow:before {color: black;}#sk-container-id-5 div.sk-toggleable__content {max-height: 0;max-width: 0;overflow: hidden;text-align: left;background-color: #f0f8ff;}#sk-container-id-5 div.sk-toggleable__content pre {margin: 0.2em;color: black;border-radius: 0.25em;background-color: #f0f8ff;}#sk-container-id-5 input.sk-toggleable__control:checked~div.sk-toggleable__content {max-height: 200px;max-width: 100%;overflow: auto;}#sk-container-id-5 input.sk-toggleable__control:checked~label.sk-toggleable__label-arrow:before {content: \"▾\";}#sk-container-id-5 div.sk-estimator input.sk-toggleable__control:checked~label.sk-toggleable__label {background-color: #d4ebff;}#sk-container-id-5 div.sk-label input.sk-toggleable__control:checked~label.sk-toggleable__label {background-color: #d4ebff;}#sk-container-id-5 input.sk-hidden--visually {border: 0;clip: rect(1px 1px 1px 1px);clip: rect(1px, 1px, 1px, 1px);height: 1px;margin: -1px;overflow: hidden;padding: 0;position: absolute;width: 1px;}#sk-container-id-5 div.sk-estimator {font-family: monospace;background-color: #f0f8ff;border: 1px dotted black;border-radius: 0.25em;box-sizing: border-box;margin-bottom: 0.5em;}#sk-container-id-5 div.sk-estimator:hover {background-color: #d4ebff;}#sk-container-id-5 div.sk-parallel-item::after {content: \"\";width: 100%;border-bottom: 1px solid gray;flex-grow: 1;}#sk-container-id-5 div.sk-label:hover label.sk-toggleable__label {background-color: #d4ebff;}#sk-container-id-5 div.sk-serial::before {content: \"\";position: absolute;border-left: 1px solid gray;box-sizing: border-box;top: 0;bottom: 0;left: 50%;z-index: 0;}#sk-container-id-5 div.sk-serial {display: flex;flex-direction: column;align-items: center;background-color: white;padding-right: 0.2em;padding-left: 0.2em;position: relative;}#sk-container-id-5 div.sk-item {position: relative;z-index: 1;}#sk-container-id-5 div.sk-parallel {display: flex;align-items: stretch;justify-content: center;background-color: white;position: relative;}#sk-container-id-5 div.sk-item::before, #sk-container-id-5 div.sk-parallel-item::before {content: \"\";position: absolute;border-left: 1px solid gray;box-sizing: border-box;top: 0;bottom: 0;left: 50%;z-index: -1;}#sk-container-id-5 div.sk-parallel-item {display: flex;flex-direction: column;z-index: 1;position: relative;background-color: white;}#sk-container-id-5 div.sk-parallel-item:first-child::after {align-self: flex-end;width: 50%;}#sk-container-id-5 div.sk-parallel-item:last-child::after {align-self: flex-start;width: 50%;}#sk-container-id-5 div.sk-parallel-item:only-child::after {width: 0;}#sk-container-id-5 div.sk-dashed-wrapped {border: 1px dashed gray;margin: 0 0.4em 0.5em 0.4em;box-sizing: border-box;padding-bottom: 0.4em;background-color: white;}#sk-container-id-5 div.sk-label label {font-family: monospace;font-weight: bold;display: inline-block;line-height: 1.2em;}#sk-container-id-5 div.sk-label-container {text-align: center;}#sk-container-id-5 div.sk-container {/* jupyter's `normalize.less` sets `[hidden] { display: none; }` but bootstrap.min.css set `[hidden] { display: none !important; }` so we also need the `!important` here to be able to override the default hidden behavior on the sphinx rendered scikit-learn.org. See: https://github.com/scikit-learn/scikit-learn/issues/21755 */display: inline-block !important;position: relative;}#sk-container-id-5 div.sk-text-repr-fallback {display: none;}</style><div id=\"sk-container-id-5\" class=\"sk-top-container\"><div class=\"sk-text-repr-fallback\"><pre>DecisionTreeRegressor()</pre><b>In a Jupyter environment, please rerun this cell to show the HTML representation or trust the notebook. <br />On GitHub, the HTML representation is unable to render, please try loading this page with nbviewer.org.</b></div><div class=\"sk-container\" hidden><div class=\"sk-item\"><div class=\"sk-estimator sk-toggleable\"><input class=\"sk-toggleable__control sk-hidden--visually\" id=\"sk-estimator-id-5\" type=\"checkbox\" checked><label for=\"sk-estimator-id-5\" class=\"sk-toggleable__label sk-toggleable__label-arrow\">DecisionTreeRegressor</label><div class=\"sk-toggleable__content\"><pre>DecisionTreeRegressor()</pre></div></div></div></div></div>"
      ],
      "text/plain": [
       "DecisionTreeRegressor()"
      ]
     },
     "execution_count": 62,
     "metadata": {},
     "output_type": "execute_result"
    }
   ],
   "source": [
    "reg_tree=tree.DecisionTreeRegressor()\n",
    "reg_tree.fit(X1_train,Y1_train)"
   ]
  },
  {
   "cell_type": "code",
   "execution_count": 63,
   "metadata": {},
   "outputs": [
    {
     "data": {
      "text/plain": [
       "0.9801487767756586"
      ]
     },
     "execution_count": 63,
     "metadata": {},
     "output_type": "execute_result"
    }
   ],
   "source": [
    "reg_tree.score(X1_test,Y1_test)"
   ]
  },
  {
   "cell_type": "code",
   "execution_count": 26,
   "metadata": {},
   "outputs": [],
   "source": [
    "import numpy as np\n",
    "a=np.array([[1,2,3],[2,6,41],[3,4,5]])\n",
    "b=np.mean(a,axis=0)"
   ]
  },
  {
   "cell_type": "code",
   "execution_count": 38,
   "metadata": {},
   "outputs": [
    {
     "data": {
      "text/plain": [
       "array([[ 3,  2,  1],\n",
       "       [41,  6,  2],\n",
       "       [ 5,  4,  3]])"
      ]
     },
     "execution_count": 38,
     "metadata": {},
     "output_type": "execute_result"
    }
   ],
   "source": [
    "a[:,[2,1,0]]"
   ]
  },
  {
   "cell_type": "code",
   "execution_count": 28,
   "metadata": {},
   "outputs": [
    {
     "data": {
      "text/plain": [
       "array([[ -1.        ,  -2.        , -13.33333333],\n",
       "       [  0.        ,   2.        ,  24.66666667],\n",
       "       [  1.        ,   0.        , -11.33333333]])"
      ]
     },
     "execution_count": 28,
     "metadata": {},
     "output_type": "execute_result"
    }
   ],
   "source": [
    "a-b"
   ]
  },
  {
   "cell_type": "code",
   "execution_count": 29,
   "metadata": {},
   "outputs": [
    {
     "data": {
      "text/plain": [
       "array([ 2.        ,  4.        , 16.33333333])"
      ]
     },
     "execution_count": 29,
     "metadata": {},
     "output_type": "execute_result"
    }
   ],
   "source": [
    "np.sort(b)"
   ]
  },
  {
   "cell_type": "code",
   "execution_count": 37,
   "metadata": {},
   "outputs": [
    {
     "data": {
      "text/plain": [
       "array([ 2.        , 16.33333333])"
      ]
     },
     "execution_count": 37,
     "metadata": {},
     "output_type": "execute_result"
    }
   ],
   "source": [
    "b[::2]"
   ]
  },
  {
   "cell_type": "code",
   "execution_count": null,
   "metadata": {},
   "outputs": [],
   "source": []
  }
 ],
 "metadata": {
  "kernelspec": {
   "display_name": "myenv",
   "language": "python",
   "name": "python3"
  },
  "language_info": {
   "codemirror_mode": {
    "name": "ipython",
    "version": 3
   },
   "file_extension": ".py",
   "mimetype": "text/x-python",
   "name": "python",
   "nbconvert_exporter": "python",
   "pygments_lexer": "ipython3",
   "version": "3.8.19"
  }
 },
 "nbformat": 4,
 "nbformat_minor": 2
}
